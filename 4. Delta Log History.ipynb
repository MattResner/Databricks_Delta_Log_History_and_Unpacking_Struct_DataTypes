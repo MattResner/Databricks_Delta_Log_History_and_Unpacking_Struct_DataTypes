{
 "cells": [
  {
   "cell_type": "markdown",
   "metadata": {
    "application/vnd.databricks.v1+cell": {
     "cellMetadata": {
      "byteLimit": 2048000,
      "rowLimit": 10000
     },
     "inputWidgets": {},
     "nuid": "7618bc9a-9127-4b64-a444-99da4d77fe90",
     "showTitle": false,
     "title": ""
    }
   },
   "source": [
    "#Viewing Changes in the Delta Log files to Extract Schema Evolution\n",
    "\n",
    "\n",
    "\n"
   ]
  },
  {
   "cell_type": "markdown",
   "metadata": {
    "application/vnd.databricks.v1+cell": {
     "cellMetadata": {},
     "inputWidgets": {},
     "nuid": "17c8c0f0-b178-47b9-8b15-db2edf4e393c",
     "showTitle": false,
     "title": ""
    }
   },
   "source": [
    "Delta log files show version history of our delta tables. \n",
    "\n",
    "Basically we can read the *.json delta log files for each iteration in order to create reporting on the schema. The log files are dictionaries with nested jsons within them so it's a little difficult to get at the data we want without understanding Struct data types.\n",
    "\n",
    "Struct data types can be exploded or accessed using a database like dot method colname.subcolname\n",
    "\n",
    "First we will see the log files we have in memory"
   ]
  },
  {
   "cell_type": "code",
   "execution_count": 0,
   "metadata": {
    "application/vnd.databricks.v1+cell": {
     "cellMetadata": {
      "byteLimit": 2048000,
      "rowLimit": 10000
     },
     "inputWidgets": {},
     "nuid": "a0313c01-5bb6-4bc9-a016-f9cb641cdb9d",
     "showTitle": false,
     "title": ""
    }
   },
   "outputs": [
    {
     "output_type": "display_data",
     "data": {
      "text/html": [
       "<style scoped>\n",
       "  .table-result-container {\n",
       "    max-height: 300px;\n",
       "    overflow: auto;\n",
       "  }\n",
       "  table, th, td {\n",
       "    border: 1px solid black;\n",
       "    border-collapse: collapse;\n",
       "  }\n",
       "  th, td {\n",
       "    padding: 5px;\n",
       "  }\n",
       "  th {\n",
       "    text-align: left;\n",
       "  }\n",
       "</style><div class='table-result-container'><table class='table-result'><thead style='background-color: white'><tr><th>path</th><th>name</th><th>size</th><th>modificationTime</th></tr></thead><tbody><tr><td>dbfs:/FileStore/tables/TraderJoesRevenue/bronze_tj_fact_revenue/_delta_log/00000000000000000000.crc</td><td>00000000000000000000.crc</td><td>2067</td><td>1724867480000</td></tr><tr><td>dbfs:/FileStore/tables/TraderJoesRevenue/bronze_tj_fact_revenue/_delta_log/00000000000000000000.json</td><td>00000000000000000000.json</td><td>1012</td><td>1724867464000</td></tr><tr><td>dbfs:/FileStore/tables/TraderJoesRevenue/bronze_tj_fact_revenue/_delta_log/00000000000000000001.00000000000000000006.compacted.json</td><td>00000000000000000001.00000000000000000006.compacted.json</td><td>2490</td><td>1724867569000</td></tr><tr><td>dbfs:/FileStore/tables/TraderJoesRevenue/bronze_tj_fact_revenue/_delta_log/00000000000000000001.crc</td><td>00000000000000000001.crc</td><td>2526</td><td>1724867501000</td></tr><tr><td>dbfs:/FileStore/tables/TraderJoesRevenue/bronze_tj_fact_revenue/_delta_log/00000000000000000001.json</td><td>00000000000000000001.json</td><td>1329</td><td>1724867499000</td></tr><tr><td>dbfs:/FileStore/tables/TraderJoesRevenue/bronze_tj_fact_revenue/_delta_log/00000000000000000002.crc</td><td>00000000000000000002.crc</td><td>3355</td><td>1724867511000</td></tr><tr><td>dbfs:/FileStore/tables/TraderJoesRevenue/bronze_tj_fact_revenue/_delta_log/00000000000000000002.json</td><td>00000000000000000002.json</td><td>1506</td><td>1724867507000</td></tr><tr><td>dbfs:/FileStore/tables/TraderJoesRevenue/bronze_tj_fact_revenue/_delta_log/00000000000000000003.crc</td><td>00000000000000000003.crc</td><td>2697</td><td>1724867539000</td></tr><tr><td>dbfs:/FileStore/tables/TraderJoesRevenue/bronze_tj_fact_revenue/_delta_log/00000000000000000003.json</td><td>00000000000000000003.json</td><td>1404</td><td>1724867538000</td></tr><tr><td>dbfs:/FileStore/tables/TraderJoesRevenue/bronze_tj_fact_revenue/_delta_log/00000000000000000004.crc</td><td>00000000000000000004.crc</td><td>4201</td><td>1724867543000</td></tr><tr><td>dbfs:/FileStore/tables/TraderJoesRevenue/bronze_tj_fact_revenue/_delta_log/00000000000000000004.json</td><td>00000000000000000004.json</td><td>1557</td><td>1724867540000</td></tr><tr><td>dbfs:/FileStore/tables/TraderJoesRevenue/bronze_tj_fact_revenue/_delta_log/00000000000000000005.crc</td><td>00000000000000000005.crc</td><td>4201</td><td>1724867561000</td></tr><tr><td>dbfs:/FileStore/tables/TraderJoesRevenue/bronze_tj_fact_revenue/_delta_log/00000000000000000005.json</td><td>00000000000000000005.json</td><td>594</td><td>1724867560000</td></tr><tr><td>dbfs:/FileStore/tables/TraderJoesRevenue/bronze_tj_fact_revenue/_delta_log/00000000000000000006.crc</td><td>00000000000000000006.crc</td><td>2773</td><td>1724867569000</td></tr><tr><td>dbfs:/FileStore/tables/TraderJoesRevenue/bronze_tj_fact_revenue/_delta_log/00000000000000000006.json</td><td>00000000000000000006.json</td><td>1480</td><td>1724867567000</td></tr><tr><td>dbfs:/FileStore/tables/TraderJoesRevenue/bronze_tj_fact_revenue/_delta_log/00000000000000000007.crc</td><td>00000000000000000007.crc</td><td>5118</td><td>1724867573000</td></tr><tr><td>dbfs:/FileStore/tables/TraderJoesRevenue/bronze_tj_fact_revenue/_delta_log/00000000000000000007.json</td><td>00000000000000000007.json</td><td>1625</td><td>1724867571000</td></tr><tr><td>dbfs:/FileStore/tables/TraderJoesRevenue/bronze_tj_fact_revenue/_delta_log/00000000000000000008.crc</td><td>00000000000000000008.crc</td><td>5118</td><td>1724867595000</td></tr><tr><td>dbfs:/FileStore/tables/TraderJoesRevenue/bronze_tj_fact_revenue/_delta_log/00000000000000000008.json</td><td>00000000000000000008.json</td><td>594</td><td>1724867593000</td></tr><tr><td>dbfs:/FileStore/tables/TraderJoesRevenue/bronze_tj_fact_revenue/_delta_log/00000000000000000009.crc</td><td>00000000000000000009.crc</td><td>5952</td><td>1724867598000</td></tr><tr><td>dbfs:/FileStore/tables/TraderJoesRevenue/bronze_tj_fact_revenue/_delta_log/00000000000000000009.json</td><td>00000000000000000009.json</td><td>1620</td><td>1724867596000</td></tr><tr><td>dbfs:/FileStore/tables/TraderJoesRevenue/bronze_tj_fact_revenue/_delta_log/__tmp_path_dir/</td><td>__tmp_path_dir/</td><td>0</td><td>1724867464000</td></tr><tr><td>dbfs:/FileStore/tables/TraderJoesRevenue/bronze_tj_fact_revenue/_delta_log/_commits/</td><td>_commits/</td><td>0</td><td>1724867463000</td></tr></tbody></table></div>"
      ]
     },
     "metadata": {
      "application/vnd.databricks.v1+output": {
       "addedWidgets": {},
       "aggData": [],
       "aggError": "",
       "aggOverflow": false,
       "aggSchema": [],
       "aggSeriesLimitReached": false,
       "aggType": "",
       "arguments": {},
       "columnCustomDisplayInfos": {},
       "data": [
        [
         "dbfs:/FileStore/tables/TraderJoesRevenue/bronze_tj_fact_revenue/_delta_log/00000000000000000000.crc",
         "00000000000000000000.crc",
         2067,
         1724867480000
        ],
        [
         "dbfs:/FileStore/tables/TraderJoesRevenue/bronze_tj_fact_revenue/_delta_log/00000000000000000000.json",
         "00000000000000000000.json",
         1012,
         1724867464000
        ],
        [
         "dbfs:/FileStore/tables/TraderJoesRevenue/bronze_tj_fact_revenue/_delta_log/00000000000000000001.00000000000000000006.compacted.json",
         "00000000000000000001.00000000000000000006.compacted.json",
         2490,
         1724867569000
        ],
        [
         "dbfs:/FileStore/tables/TraderJoesRevenue/bronze_tj_fact_revenue/_delta_log/00000000000000000001.crc",
         "00000000000000000001.crc",
         2526,
         1724867501000
        ],
        [
         "dbfs:/FileStore/tables/TraderJoesRevenue/bronze_tj_fact_revenue/_delta_log/00000000000000000001.json",
         "00000000000000000001.json",
         1329,
         1724867499000
        ],
        [
         "dbfs:/FileStore/tables/TraderJoesRevenue/bronze_tj_fact_revenue/_delta_log/00000000000000000002.crc",
         "00000000000000000002.crc",
         3355,
         1724867511000
        ],
        [
         "dbfs:/FileStore/tables/TraderJoesRevenue/bronze_tj_fact_revenue/_delta_log/00000000000000000002.json",
         "00000000000000000002.json",
         1506,
         1724867507000
        ],
        [
         "dbfs:/FileStore/tables/TraderJoesRevenue/bronze_tj_fact_revenue/_delta_log/00000000000000000003.crc",
         "00000000000000000003.crc",
         2697,
         1724867539000
        ],
        [
         "dbfs:/FileStore/tables/TraderJoesRevenue/bronze_tj_fact_revenue/_delta_log/00000000000000000003.json",
         "00000000000000000003.json",
         1404,
         1724867538000
        ],
        [
         "dbfs:/FileStore/tables/TraderJoesRevenue/bronze_tj_fact_revenue/_delta_log/00000000000000000004.crc",
         "00000000000000000004.crc",
         4201,
         1724867543000
        ],
        [
         "dbfs:/FileStore/tables/TraderJoesRevenue/bronze_tj_fact_revenue/_delta_log/00000000000000000004.json",
         "00000000000000000004.json",
         1557,
         1724867540000
        ],
        [
         "dbfs:/FileStore/tables/TraderJoesRevenue/bronze_tj_fact_revenue/_delta_log/00000000000000000005.crc",
         "00000000000000000005.crc",
         4201,
         1724867561000
        ],
        [
         "dbfs:/FileStore/tables/TraderJoesRevenue/bronze_tj_fact_revenue/_delta_log/00000000000000000005.json",
         "00000000000000000005.json",
         594,
         1724867560000
        ],
        [
         "dbfs:/FileStore/tables/TraderJoesRevenue/bronze_tj_fact_revenue/_delta_log/00000000000000000006.crc",
         "00000000000000000006.crc",
         2773,
         1724867569000
        ],
        [
         "dbfs:/FileStore/tables/TraderJoesRevenue/bronze_tj_fact_revenue/_delta_log/00000000000000000006.json",
         "00000000000000000006.json",
         1480,
         1724867567000
        ],
        [
         "dbfs:/FileStore/tables/TraderJoesRevenue/bronze_tj_fact_revenue/_delta_log/00000000000000000007.crc",
         "00000000000000000007.crc",
         5118,
         1724867573000
        ],
        [
         "dbfs:/FileStore/tables/TraderJoesRevenue/bronze_tj_fact_revenue/_delta_log/00000000000000000007.json",
         "00000000000000000007.json",
         1625,
         1724867571000
        ],
        [
         "dbfs:/FileStore/tables/TraderJoesRevenue/bronze_tj_fact_revenue/_delta_log/00000000000000000008.crc",
         "00000000000000000008.crc",
         5118,
         1724867595000
        ],
        [
         "dbfs:/FileStore/tables/TraderJoesRevenue/bronze_tj_fact_revenue/_delta_log/00000000000000000008.json",
         "00000000000000000008.json",
         594,
         1724867593000
        ],
        [
         "dbfs:/FileStore/tables/TraderJoesRevenue/bronze_tj_fact_revenue/_delta_log/00000000000000000009.crc",
         "00000000000000000009.crc",
         5952,
         1724867598000
        ],
        [
         "dbfs:/FileStore/tables/TraderJoesRevenue/bronze_tj_fact_revenue/_delta_log/00000000000000000009.json",
         "00000000000000000009.json",
         1620,
         1724867596000
        ],
        [
         "dbfs:/FileStore/tables/TraderJoesRevenue/bronze_tj_fact_revenue/_delta_log/__tmp_path_dir/",
         "__tmp_path_dir/",
         0,
         1724867464000
        ],
        [
         "dbfs:/FileStore/tables/TraderJoesRevenue/bronze_tj_fact_revenue/_delta_log/_commits/",
         "_commits/",
         0,
         1724867463000
        ]
       ],
       "datasetInfos": [],
       "dbfsResultPath": null,
       "isJsonSchema": true,
       "metadata": {
        "isDbfsCommandResult": false
       },
       "overflow": false,
       "plotOptions": {
        "customPlotOptions": {},
        "displayType": "table",
        "pivotAggregation": null,
        "pivotColumns": null,
        "xColumns": null,
        "yColumns": null
       },
       "removedWidgets": [],
       "schema": [
        {
         "metadata": "{}",
         "name": "path",
         "type": "\"string\""
        },
        {
         "metadata": "{}",
         "name": "name",
         "type": "\"string\""
        },
        {
         "metadata": "{}",
         "name": "size",
         "type": "\"long\""
        },
        {
         "metadata": "{}",
         "name": "modificationTime",
         "type": "\"long\""
        }
       ],
       "type": "table"
      }
     },
     "output_type": "display_data"
    }
   ],
   "source": [
    "%fs ls dbfs:/FileStore/tables/TraderJoesRevenue/bronze_tj_fact_revenue/_delta_log"
   ]
  },
  {
   "cell_type": "markdown",
   "metadata": {
    "application/vnd.databricks.v1+cell": {
     "cellMetadata": {},
     "inputWidgets": {},
     "nuid": "062248b0-ef31-41f7-8d1c-2e4f8913bb1c",
     "showTitle": false,
     "title": ""
    }
   },
   "source": [
    "Viewing the raw file"
   ]
  },
  {
   "cell_type": "code",
   "execution_count": 0,
   "metadata": {
    "application/vnd.databricks.v1+cell": {
     "cellMetadata": {
      "byteLimit": 2048000,
      "rowLimit": 10000
     },
     "inputWidgets": {},
     "nuid": "200cf442-f317-4adf-a55b-fb28f1ef82fc",
     "showTitle": false,
     "title": ""
    }
   },
   "outputs": [
    {
     "output_type": "display_data",
     "data": {
      "text/html": [
       "<style scoped>\n",
       "  .table-result-container {\n",
       "    max-height: 300px;\n",
       "    overflow: auto;\n",
       "  }\n",
       "  table, th, td {\n",
       "    border: 1px solid black;\n",
       "    border-collapse: collapse;\n",
       "  }\n",
       "  th, td {\n",
       "    padding: 5px;\n",
       "  }\n",
       "  th {\n",
       "    text-align: left;\n",
       "  }\n",
       "</style><div class='table-result-container'><table class='table-result'><thead style='background-color: white'><tr><th>commitInfo</th><th>metaData</th></tr></thead><tbody><tr><td>List(0801-194747-f0qk6m1o, Databricks-Runtime/15.3.x-cpu-ml-scala2.12, true, WriteSerializable, List(3309121777485539), STREAMING UPDATE, List(-1, Append, 58c82e50-133e-4f0e-93ed-ca0e65758278, false), 5, List(false), 1724867567555, 4dd5fb59-db91-42f5-91ce-1e3e23380340, 7971536220129282, matthew.resner@group1001.com)</td><td>null</td></tr><tr><td>null</td><td>List(List(true), 1724867463455, List(parquet), 0bde0511-7d01-4e42-a5fb-35d8b714d209, List(), {\"type\":\"struct\",\"fields\":[{\"name\":\"Row_ID\",\"type\":\"integer\",\"nullable\":true,\"metadata\":{}},{\"name\":\"Store_ID\",\"type\":\"integer\",\"nullable\":true,\"metadata\":{}},{\"name\":\"Year\",\"type\":\"integer\",\"nullable\":true,\"metadata\":{}},{\"name\":\"Quarter\",\"type\":\"string\",\"nullable\":true,\"metadata\":{}},{\"name\":\"Total_Revenue\",\"type\":\"string\",\"nullable\":true,\"metadata\":{}},{\"name\":\"_rescued_data\",\"type\":\"string\",\"nullable\":true,\"metadata\":{}},{\"name\":\"COGS\",\"type\":\"integer\",\"nullable\":true,\"metadata\":{}},{\"name\":\"Profit\",\"type\":\"double\",\"nullable\":true,\"metadata\":{}}]})</td></tr></tbody></table></div>"
      ]
     },
     "metadata": {
      "application/vnd.databricks.v1+output": {
       "addedWidgets": {},
       "aggData": [],
       "aggError": "",
       "aggOverflow": false,
       "aggSchema": [],
       "aggSeriesLimitReached": false,
       "aggType": "",
       "arguments": {},
       "columnCustomDisplayInfos": {},
       "data": [
        [
         [
          "0801-194747-f0qk6m1o",
          "Databricks-Runtime/15.3.x-cpu-ml-scala2.12",
          true,
          "WriteSerializable",
          [
           "3309121777485539"
          ],
          "STREAMING UPDATE",
          [
           "-1",
           "Append",
           "58c82e50-133e-4f0e-93ed-ca0e65758278",
           false
          ],
          5,
          [
           "false"
          ],
          1724867567555,
          "4dd5fb59-db91-42f5-91ce-1e3e23380340",
          "7971536220129282",
          "matthew.resner@group1001.com"
         ],
         null
        ],
        [
         null,
         [
          [
           "true"
          ],
          1724867463455,
          [
           "parquet"
          ],
          "0bde0511-7d01-4e42-a5fb-35d8b714d209",
          [],
          "{\"type\":\"struct\",\"fields\":[{\"name\":\"Row_ID\",\"type\":\"integer\",\"nullable\":true,\"metadata\":{}},{\"name\":\"Store_ID\",\"type\":\"integer\",\"nullable\":true,\"metadata\":{}},{\"name\":\"Year\",\"type\":\"integer\",\"nullable\":true,\"metadata\":{}},{\"name\":\"Quarter\",\"type\":\"string\",\"nullable\":true,\"metadata\":{}},{\"name\":\"Total_Revenue\",\"type\":\"string\",\"nullable\":true,\"metadata\":{}},{\"name\":\"_rescued_data\",\"type\":\"string\",\"nullable\":true,\"metadata\":{}},{\"name\":\"COGS\",\"type\":\"integer\",\"nullable\":true,\"metadata\":{}},{\"name\":\"Profit\",\"type\":\"double\",\"nullable\":true,\"metadata\":{}}]}"
         ]
        ]
       ],
       "datasetInfos": [],
       "dbfsResultPath": null,
       "isJsonSchema": true,
       "metadata": {},
       "overflow": false,
       "plotOptions": {
        "customPlotOptions": {},
        "displayType": "table",
        "pivotAggregation": null,
        "pivotColumns": null,
        "xColumns": null,
        "yColumns": null
       },
       "removedWidgets": [],
       "schema": [
        {
         "metadata": "{}",
         "name": "commitInfo",
         "type": "{\"type\":\"struct\",\"fields\":[{\"name\":\"clusterId\",\"type\":\"string\",\"nullable\":true,\"metadata\":{}},{\"name\":\"engineInfo\",\"type\":\"string\",\"nullable\":true,\"metadata\":{}},{\"name\":\"isBlindAppend\",\"type\":\"boolean\",\"nullable\":true,\"metadata\":{}},{\"name\":\"isolationLevel\",\"type\":\"string\",\"nullable\":true,\"metadata\":{}},{\"name\":\"notebook\",\"type\":{\"type\":\"struct\",\"fields\":[{\"name\":\"notebookId\",\"type\":\"string\",\"nullable\":true,\"metadata\":{}}]},\"nullable\":true,\"metadata\":{}},{\"name\":\"operation\",\"type\":\"string\",\"nullable\":true,\"metadata\":{}},{\"name\":\"operationParameters\",\"type\":{\"type\":\"struct\",\"fields\":[{\"name\":\"epochId\",\"type\":\"string\",\"nullable\":true,\"metadata\":{}},{\"name\":\"outputMode\",\"type\":\"string\",\"nullable\":true,\"metadata\":{}},{\"name\":\"queryId\",\"type\":\"string\",\"nullable\":true,\"metadata\":{}},{\"name\":\"statsOnLoad\",\"type\":\"boolean\",\"nullable\":true,\"metadata\":{}}]},\"nullable\":true,\"metadata\":{}},{\"name\":\"readVersion\",\"type\":\"long\",\"nullable\":true,\"metadata\":{}},{\"name\":\"tags\",\"type\":{\"type\":\"struct\",\"fields\":[{\"name\":\"restoresDeletedRows\",\"type\":\"string\",\"nullable\":true,\"metadata\":{}}]},\"nullable\":true,\"metadata\":{}},{\"name\":\"timestamp\",\"type\":\"long\",\"nullable\":true,\"metadata\":{}},{\"name\":\"txnId\",\"type\":\"string\",\"nullable\":true,\"metadata\":{}},{\"name\":\"userId\",\"type\":\"string\",\"nullable\":true,\"metadata\":{}},{\"name\":\"userName\",\"type\":\"string\",\"nullable\":true,\"metadata\":{}}]}"
        },
        {
         "metadata": "{}",
         "name": "metaData",
         "type": "{\"type\":\"struct\",\"fields\":[{\"name\":\"configuration\",\"type\":{\"type\":\"struct\",\"fields\":[{\"name\":\"delta.enableDeletionVectors\",\"type\":\"string\",\"nullable\":true,\"metadata\":{}}]},\"nullable\":true,\"metadata\":{}},{\"name\":\"createdTime\",\"type\":\"long\",\"nullable\":true,\"metadata\":{}},{\"name\":\"format\",\"type\":{\"type\":\"struct\",\"fields\":[{\"name\":\"provider\",\"type\":\"string\",\"nullable\":true,\"metadata\":{}}]},\"nullable\":true,\"metadata\":{}},{\"name\":\"id\",\"type\":\"string\",\"nullable\":true,\"metadata\":{}},{\"name\":\"partitionColumns\",\"type\":{\"type\":\"array\",\"elementType\":\"string\",\"containsNull\":true},\"nullable\":true,\"metadata\":{}},{\"name\":\"schemaString\",\"type\":\"string\",\"nullable\":true,\"metadata\":{}}]}"
        }
       ],
       "type": "table"
      }
     },
     "output_type": "display_data"
    }
   ],
   "source": [
    "jsonmulti = spark.read.option(\"multiline\", \"true\").json(\"/FileStore/tables/TraderJoesRevenue/bronze_tj_fact_revenue/_delta_log/00000000000000000009.json\")\n",
    "\n",
    "json1 = spark.read.json(\"/FileStore/tables/TraderJoesRevenue/bronze_tj_fact_revenue/_delta_log/00000000000000000006.json\")\n",
    "\n",
    "display(json1)\n"
   ]
  },
  {
   "cell_type": "markdown",
   "metadata": {
    "application/vnd.databricks.v1+cell": {
     "cellMetadata": {},
     "inputWidgets": {},
     "nuid": "dfef857d-fa1f-48f4-ad35-8d93c8d166b7",
     "showTitle": false,
     "title": ""
    }
   },
   "source": [
    "From a file control and monitoring standpoint we might want to have the commitInfo Timestamp or metaData jsons which could be unpacked and organized to enable easy visualization and reporting on schema change for a particular delta table. \n",
    "\n",
    "To do that we want to get the commitInfo and metaData on the same lines so that we can extract timestamp from commitInfo and our schema evolution from metaData"
   ]
  },
  {
   "cell_type": "code",
   "execution_count": 0,
   "metadata": {
    "application/vnd.databricks.v1+cell": {
     "cellMetadata": {
      "byteLimit": 2048000,
      "rowLimit": 10000
     },
     "inputWidgets": {},
     "nuid": "68d52a98-426a-4406-851d-4e563fdcd129",
     "showTitle": false,
     "title": ""
    }
   },
   "outputs": [
    {
     "output_type": "display_data",
     "data": {
      "text/html": [
       "<style scoped>\n",
       "  .table-result-container {\n",
       "    max-height: 300px;\n",
       "    overflow: auto;\n",
       "  }\n",
       "  table, th, td {\n",
       "    border: 1px solid black;\n",
       "    border-collapse: collapse;\n",
       "  }\n",
       "  th, td {\n",
       "    padding: 5px;\n",
       "  }\n",
       "  th {\n",
       "    text-align: left;\n",
       "  }\n",
       "</style><div class='table-result-container'><table class='table-result'><thead style='background-color: white'><tr><th>table_name</th><th>schema_version</th><th>metaData</th><th>commitInfo</th></tr></thead><tbody><tr><td>bronze_tj_fact_revenue</td><td>00000000000000000006.json</td><td>List(List(true), 1724867463455, List(parquet), 0bde0511-7d01-4e42-a5fb-35d8b714d209, List(), {\"type\":\"struct\",\"fields\":[{\"name\":\"Row_ID\",\"type\":\"integer\",\"nullable\":true,\"metadata\":{}},{\"name\":\"Store_ID\",\"type\":\"integer\",\"nullable\":true,\"metadata\":{}},{\"name\":\"Year\",\"type\":\"integer\",\"nullable\":true,\"metadata\":{}},{\"name\":\"Quarter\",\"type\":\"string\",\"nullable\":true,\"metadata\":{}},{\"name\":\"Total_Revenue\",\"type\":\"string\",\"nullable\":true,\"metadata\":{}},{\"name\":\"_rescued_data\",\"type\":\"string\",\"nullable\":true,\"metadata\":{}},{\"name\":\"COGS\",\"type\":\"integer\",\"nullable\":true,\"metadata\":{}},{\"name\":\"Profit\",\"type\":\"double\",\"nullable\":true,\"metadata\":{}}]})</td><td>List(0801-194747-f0qk6m1o, Databricks-Runtime/15.3.x-cpu-ml-scala2.12, true, WriteSerializable, List(3309121777485539), STREAMING UPDATE, List(null, null, null, null), List(null, null, -1, null, Append, null, null, 58c82e50-133e-4f0e-93ed-ca0e65758278, false), 5, List(false), 1724867567555, 4dd5fb59-db91-42f5-91ce-1e3e23380340, 7971536220129282, matthew.resner@group1001.com)</td></tr><tr><td>bronze_tj_fact_revenue</td><td>00000000000000000003.json</td><td>List(List(true), 1724867463455, List(parquet), 0bde0511-7d01-4e42-a5fb-35d8b714d209, List(), {\"type\":\"struct\",\"fields\":[{\"name\":\"Row_ID\",\"type\":\"integer\",\"nullable\":true,\"metadata\":{}},{\"name\":\"Store_ID\",\"type\":\"integer\",\"nullable\":true,\"metadata\":{}},{\"name\":\"Year\",\"type\":\"integer\",\"nullable\":true,\"metadata\":{}},{\"name\":\"Quarter\",\"type\":\"string\",\"nullable\":true,\"metadata\":{}},{\"name\":\"Total_Revenue\",\"type\":\"string\",\"nullable\":true,\"metadata\":{}},{\"name\":\"_rescued_data\",\"type\":\"string\",\"nullable\":true,\"metadata\":{}},{\"name\":\"COGS\",\"type\":\"integer\",\"nullable\":true,\"metadata\":{}}]})</td><td>List(0801-194747-f0qk6m1o, Databricks-Runtime/15.3.x-cpu-ml-scala2.12, true, WriteSerializable, List(3309121777485539), STREAMING UPDATE, List(null, null, null, null), List(null, null, -1, null, Append, null, null, 58c82e50-133e-4f0e-93ed-ca0e65758278, false), 2, List(false), 1724867538429, fccaa851-0892-4742-b042-c680336e99a2, 7971536220129282, matthew.resner@group1001.com)</td></tr><tr><td>bronze_tj_fact_revenue</td><td>00000000000000000001.json</td><td>List(List(true), 1724867463455, List(parquet), 0bde0511-7d01-4e42-a5fb-35d8b714d209, List(), {\"type\":\"struct\",\"fields\":[{\"name\":\"Row_ID\",\"type\":\"integer\",\"nullable\":true,\"metadata\":{}},{\"name\":\"Store_ID\",\"type\":\"integer\",\"nullable\":true,\"metadata\":{}},{\"name\":\"Year\",\"type\":\"integer\",\"nullable\":true,\"metadata\":{}},{\"name\":\"Quarter\",\"type\":\"string\",\"nullable\":true,\"metadata\":{}},{\"name\":\"Total_Revenue\",\"type\":\"string\",\"nullable\":true,\"metadata\":{}},{\"name\":\"_rescued_data\",\"type\":\"string\",\"nullable\":true,\"metadata\":{}}]})</td><td>List(0801-194747-f0qk6m1o, Databricks-Runtime/15.3.x-cpu-ml-scala2.12, true, WriteSerializable, List(3309121777485539), STREAMING UPDATE, List(null, null, null, null), List(null, null, -1, null, Append, null, null, 58c82e50-133e-4f0e-93ed-ca0e65758278, false), 0, List(false), 1724867499107, a5a5c724-5609-4ba2-bef3-9de94d73748a, 7971536220129282, matthew.resner@group1001.com)</td></tr><tr><td>bronze_tj_fact_revenue</td><td>00000000000000000000.json</td><td>List(List(true), 1724867463455, List(parquet), 0bde0511-7d01-4e42-a5fb-35d8b714d209, List(), {\"type\":\"struct\",\"fields\":[]})</td><td>List(0801-194747-f0qk6m1o, Databricks-Runtime/15.3.x-cpu-ml-scala2.12, true, WriteSerializable, List(285342671664234), CREATE TABLE, List(null, null, null, null), List([], null, null, true, null, [], {\"delta.enableDeletionVectors\":\"true\"}, null, false), null, List(false), 1724867463892, 74052df9-40b0-48ee-b209-10e161b89246, 7971536220129282, matthew.resner@group1001.com)</td></tr></tbody></table></div>"
      ]
     },
     "metadata": {
      "application/vnd.databricks.v1+output": {
       "addedWidgets": {},
       "aggData": [],
       "aggError": "",
       "aggOverflow": false,
       "aggSchema": [],
       "aggSeriesLimitReached": false,
       "aggType": "",
       "arguments": {},
       "columnCustomDisplayInfos": {},
       "data": [
        [
         "bronze_tj_fact_revenue",
         "00000000000000000006.json",
         [
          [
           "true"
          ],
          1724867463455,
          [
           "parquet"
          ],
          "0bde0511-7d01-4e42-a5fb-35d8b714d209",
          [],
          "{\"type\":\"struct\",\"fields\":[{\"name\":\"Row_ID\",\"type\":\"integer\",\"nullable\":true,\"metadata\":{}},{\"name\":\"Store_ID\",\"type\":\"integer\",\"nullable\":true,\"metadata\":{}},{\"name\":\"Year\",\"type\":\"integer\",\"nullable\":true,\"metadata\":{}},{\"name\":\"Quarter\",\"type\":\"string\",\"nullable\":true,\"metadata\":{}},{\"name\":\"Total_Revenue\",\"type\":\"string\",\"nullable\":true,\"metadata\":{}},{\"name\":\"_rescued_data\",\"type\":\"string\",\"nullable\":true,\"metadata\":{}},{\"name\":\"COGS\",\"type\":\"integer\",\"nullable\":true,\"metadata\":{}},{\"name\":\"Profit\",\"type\":\"double\",\"nullable\":true,\"metadata\":{}}]}"
         ],
         [
          "0801-194747-f0qk6m1o",
          "Databricks-Runtime/15.3.x-cpu-ml-scala2.12",
          true,
          "WriteSerializable",
          [
           "3309121777485539"
          ],
          "STREAMING UPDATE",
          [
           null,
           null,
           null,
           null
          ],
          [
           null,
           null,
           "-1",
           null,
           "Append",
           null,
           null,
           "58c82e50-133e-4f0e-93ed-ca0e65758278",
           false
          ],
          5,
          [
           "false"
          ],
          1724867567555,
          "4dd5fb59-db91-42f5-91ce-1e3e23380340",
          "7971536220129282",
          "matthew.resner@group1001.com"
         ]
        ],
        [
         "bronze_tj_fact_revenue",
         "00000000000000000003.json",
         [
          [
           "true"
          ],
          1724867463455,
          [
           "parquet"
          ],
          "0bde0511-7d01-4e42-a5fb-35d8b714d209",
          [],
          "{\"type\":\"struct\",\"fields\":[{\"name\":\"Row_ID\",\"type\":\"integer\",\"nullable\":true,\"metadata\":{}},{\"name\":\"Store_ID\",\"type\":\"integer\",\"nullable\":true,\"metadata\":{}},{\"name\":\"Year\",\"type\":\"integer\",\"nullable\":true,\"metadata\":{}},{\"name\":\"Quarter\",\"type\":\"string\",\"nullable\":true,\"metadata\":{}},{\"name\":\"Total_Revenue\",\"type\":\"string\",\"nullable\":true,\"metadata\":{}},{\"name\":\"_rescued_data\",\"type\":\"string\",\"nullable\":true,\"metadata\":{}},{\"name\":\"COGS\",\"type\":\"integer\",\"nullable\":true,\"metadata\":{}}]}"
         ],
         [
          "0801-194747-f0qk6m1o",
          "Databricks-Runtime/15.3.x-cpu-ml-scala2.12",
          true,
          "WriteSerializable",
          [
           "3309121777485539"
          ],
          "STREAMING UPDATE",
          [
           null,
           null,
           null,
           null
          ],
          [
           null,
           null,
           "-1",
           null,
           "Append",
           null,
           null,
           "58c82e50-133e-4f0e-93ed-ca0e65758278",
           false
          ],
          2,
          [
           "false"
          ],
          1724867538429,
          "fccaa851-0892-4742-b042-c680336e99a2",
          "7971536220129282",
          "matthew.resner@group1001.com"
         ]
        ],
        [
         "bronze_tj_fact_revenue",
         "00000000000000000001.json",
         [
          [
           "true"
          ],
          1724867463455,
          [
           "parquet"
          ],
          "0bde0511-7d01-4e42-a5fb-35d8b714d209",
          [],
          "{\"type\":\"struct\",\"fields\":[{\"name\":\"Row_ID\",\"type\":\"integer\",\"nullable\":true,\"metadata\":{}},{\"name\":\"Store_ID\",\"type\":\"integer\",\"nullable\":true,\"metadata\":{}},{\"name\":\"Year\",\"type\":\"integer\",\"nullable\":true,\"metadata\":{}},{\"name\":\"Quarter\",\"type\":\"string\",\"nullable\":true,\"metadata\":{}},{\"name\":\"Total_Revenue\",\"type\":\"string\",\"nullable\":true,\"metadata\":{}},{\"name\":\"_rescued_data\",\"type\":\"string\",\"nullable\":true,\"metadata\":{}}]}"
         ],
         [
          "0801-194747-f0qk6m1o",
          "Databricks-Runtime/15.3.x-cpu-ml-scala2.12",
          true,
          "WriteSerializable",
          [
           "3309121777485539"
          ],
          "STREAMING UPDATE",
          [
           null,
           null,
           null,
           null
          ],
          [
           null,
           null,
           "-1",
           null,
           "Append",
           null,
           null,
           "58c82e50-133e-4f0e-93ed-ca0e65758278",
           false
          ],
          0,
          [
           "false"
          ],
          1724867499107,
          "a5a5c724-5609-4ba2-bef3-9de94d73748a",
          "7971536220129282",
          "matthew.resner@group1001.com"
         ]
        ],
        [
         "bronze_tj_fact_revenue",
         "00000000000000000000.json",
         [
          [
           "true"
          ],
          1724867463455,
          [
           "parquet"
          ],
          "0bde0511-7d01-4e42-a5fb-35d8b714d209",
          [],
          "{\"type\":\"struct\",\"fields\":[]}"
         ],
         [
          "0801-194747-f0qk6m1o",
          "Databricks-Runtime/15.3.x-cpu-ml-scala2.12",
          true,
          "WriteSerializable",
          [
           "285342671664234"
          ],
          "CREATE TABLE",
          [
           null,
           null,
           null,
           null
          ],
          [
           "[]",
           null,
           null,
           "true",
           null,
           "[]",
           "{\"delta.enableDeletionVectors\":\"true\"}",
           null,
           false
          ],
          null,
          [
           "false"
          ],
          1724867463892,
          "74052df9-40b0-48ee-b209-10e161b89246",
          "7971536220129282",
          "matthew.resner@group1001.com"
         ]
        ]
       ],
       "datasetInfos": [],
       "dbfsResultPath": null,
       "isJsonSchema": true,
       "metadata": {},
       "overflow": false,
       "plotOptions": {
        "customPlotOptions": {},
        "displayType": "table",
        "pivotAggregation": null,
        "pivotColumns": null,
        "xColumns": null,
        "yColumns": null
       },
       "removedWidgets": [],
       "schema": [
        {
         "metadata": "{}",
         "name": "table_name",
         "type": "\"string\""
        },
        {
         "metadata": "{}",
         "name": "schema_version",
         "type": "\"string\""
        },
        {
         "metadata": "{}",
         "name": "metaData",
         "type": "{\"type\":\"struct\",\"fields\":[{\"name\":\"configuration\",\"type\":{\"type\":\"struct\",\"fields\":[{\"name\":\"delta.enableDeletionVectors\",\"type\":\"string\",\"nullable\":true,\"metadata\":{}}]},\"nullable\":true,\"metadata\":{}},{\"name\":\"createdTime\",\"type\":\"long\",\"nullable\":true,\"metadata\":{}},{\"name\":\"format\",\"type\":{\"type\":\"struct\",\"fields\":[{\"name\":\"provider\",\"type\":\"string\",\"nullable\":true,\"metadata\":{}}]},\"nullable\":true,\"metadata\":{}},{\"name\":\"id\",\"type\":\"string\",\"nullable\":true,\"metadata\":{}},{\"name\":\"partitionColumns\",\"type\":{\"type\":\"array\",\"elementType\":\"string\",\"containsNull\":true},\"nullable\":true,\"metadata\":{}},{\"name\":\"schemaString\",\"type\":\"string\",\"nullable\":true,\"metadata\":{}}]}"
        },
        {
         "metadata": "{}",
         "name": "commitInfo",
         "type": "{\"type\":\"struct\",\"fields\":[{\"name\":\"clusterId\",\"type\":\"string\",\"nullable\":true,\"metadata\":{}},{\"name\":\"engineInfo\",\"type\":\"string\",\"nullable\":true,\"metadata\":{}},{\"name\":\"isBlindAppend\",\"type\":\"boolean\",\"nullable\":true,\"metadata\":{}},{\"name\":\"isolationLevel\",\"type\":\"string\",\"nullable\":true,\"metadata\":{}},{\"name\":\"notebook\",\"type\":{\"type\":\"struct\",\"fields\":[{\"name\":\"notebookId\",\"type\":\"string\",\"nullable\":true,\"metadata\":{}}]},\"nullable\":true,\"metadata\":{}},{\"name\":\"operation\",\"type\":\"string\",\"nullable\":true,\"metadata\":{}},{\"name\":\"operationMetrics\",\"type\":{\"type\":\"struct\",\"fields\":[{\"name\":\"numAddedFiles\",\"type\":\"string\",\"nullable\":true,\"metadata\":{}},{\"name\":\"numOutputBytes\",\"type\":\"string\",\"nullable\":true,\"metadata\":{}},{\"name\":\"numOutputRows\",\"type\":\"string\",\"nullable\":true,\"metadata\":{}},{\"name\":\"numRemovedFiles\",\"type\":\"string\",\"nullable\":true,\"metadata\":{}}]},\"nullable\":true,\"metadata\":{}},{\"name\":\"operationParameters\",\"type\":{\"type\":\"struct\",\"fields\":[{\"name\":\"clusterBy\",\"type\":\"string\",\"nullable\":true,\"metadata\":{}},{\"name\":\"description\",\"type\":\"string\",\"nullable\":true,\"metadata\":{}},{\"name\":\"epochId\",\"type\":\"string\",\"nullable\":true,\"metadata\":{}},{\"name\":\"isManaged\",\"type\":\"string\",\"nullable\":true,\"metadata\":{}},{\"name\":\"outputMode\",\"type\":\"string\",\"nullable\":true,\"metadata\":{}},{\"name\":\"partitionBy\",\"type\":\"string\",\"nullable\":true,\"metadata\":{}},{\"name\":\"properties\",\"type\":\"string\",\"nullable\":true,\"metadata\":{}},{\"name\":\"queryId\",\"type\":\"string\",\"nullable\":true,\"metadata\":{}},{\"name\":\"statsOnLoad\",\"type\":\"boolean\",\"nullable\":true,\"metadata\":{}}]},\"nullable\":true,\"metadata\":{}},{\"name\":\"readVersion\",\"type\":\"long\",\"nullable\":true,\"metadata\":{}},{\"name\":\"tags\",\"type\":{\"type\":\"struct\",\"fields\":[{\"name\":\"restoresDeletedRows\",\"type\":\"string\",\"nullable\":true,\"metadata\":{}}]},\"nullable\":true,\"metadata\":{}},{\"name\":\"timestamp\",\"type\":\"long\",\"nullable\":true,\"metadata\":{}},{\"name\":\"txnId\",\"type\":\"string\",\"nullable\":true,\"metadata\":{}},{\"name\":\"userId\",\"type\":\"string\",\"nullable\":true,\"metadata\":{}},{\"name\":\"userName\",\"type\":\"string\",\"nullable\":true,\"metadata\":{}}]}"
        }
       ],
       "type": "table"
      }
     },
     "output_type": "display_data"
    }
   ],
   "source": [
    "#Joining the delta log to itself to get metadata and commitInfo on the same lines for each schema version\n",
    "\n",
    "from pyspark.sql.functions import input_file_name, regexp_extract\n",
    "\n",
    "spark.read.json(\"dbfs:/FileStore/tables/TraderJoesRevenue/bronze_tj_fact_revenue/_delta_log/*.json\")\\\n",
    "    .withColumn(\"table_name\", regexp_extract(input_file_name(), r'/tables/TraderJoesRevenue/(.*?)/_delta_log/', 1))\\\n",
    "    .withColumn(\"schema_version\", regexp_extract(input_file_name(), r'(\\d+)\\.json$', 0))\\\n",
    "    .createOrReplaceTempView(\"delta_log\")\n",
    "\n",
    "display(spark.sql(\" \\\n",
    "    select a.table_name, a.schema_version, a.metaData, b.commitInfo \\\n",
    "    from delta_log a \\\n",
    "    left join delta_log b on a.schema_version = b.schema_version AND b.commitInfo is not null\\\n",
    "    WHERE a.metaData is not null and a.schema_version <> '' \\\n",
    "    ORDER BY a.schema_version DESC\"))"
   ]
  },
  {
   "cell_type": "markdown",
   "metadata": {
    "application/vnd.databricks.v1+cell": {
     "cellMetadata": {},
     "inputWidgets": {},
     "nuid": "3c56e2d0-c4a4-47b1-a130-9336b4b20392",
     "showTitle": false,
     "title": ""
    }
   },
   "source": [
    "Next we add a window function (LAG) in order to get the previous schema on the same line with the current schema (then we will compare them)"
   ]
  },
  {
   "cell_type": "code",
   "execution_count": 0,
   "metadata": {
    "application/vnd.databricks.v1+cell": {
     "cellMetadata": {
      "byteLimit": 2048000,
      "rowLimit": 10000
     },
     "inputWidgets": {},
     "nuid": "c0885627-1b4c-4ca6-9e57-fe426cd15091",
     "showTitle": false,
     "title": ""
    }
   },
   "outputs": [
    {
     "output_type": "display_data",
     "data": {
      "text/html": [
       "<style scoped>\n",
       "  .table-result-container {\n",
       "    max-height: 300px;\n",
       "    overflow: auto;\n",
       "  }\n",
       "  table, th, td {\n",
       "    border: 1px solid black;\n",
       "    border-collapse: collapse;\n",
       "  }\n",
       "  th, td {\n",
       "    padding: 5px;\n",
       "  }\n",
       "  th {\n",
       "    text-align: left;\n",
       "  }\n",
       "</style><div class='table-result-container'><table class='table-result'><thead style='background-color: white'><tr><th>table_name</th><th>schema_version</th><th>timestamp</th><th>current_schemaString</th><th>prev_schemaString</th><th>commitInfo</th><th>metaData</th></tr></thead><tbody><tr><td>bronze_tj_fact_revenue</td><td>00000000000000000006.json</td><td>2024-08-28 17:52:47</td><td>{\"type\":\"struct\",\"fields\":[{\"name\":\"Row_ID\",\"type\":\"integer\",\"nullable\":true,\"metadata\":{}},{\"name\":\"Store_ID\",\"type\":\"integer\",\"nullable\":true,\"metadata\":{}},{\"name\":\"Year\",\"type\":\"integer\",\"nullable\":true,\"metadata\":{}},{\"name\":\"Quarter\",\"type\":\"string\",\"nullable\":true,\"metadata\":{}},{\"name\":\"Total_Revenue\",\"type\":\"string\",\"nullable\":true,\"metadata\":{}},{\"name\":\"_rescued_data\",\"type\":\"string\",\"nullable\":true,\"metadata\":{}},{\"name\":\"COGS\",\"type\":\"integer\",\"nullable\":true,\"metadata\":{}},{\"name\":\"Profit\",\"type\":\"double\",\"nullable\":true,\"metadata\":{}}]}</td><td>{\"type\":\"struct\",\"fields\":[{\"name\":\"Row_ID\",\"type\":\"integer\",\"nullable\":true,\"metadata\":{}},{\"name\":\"Store_ID\",\"type\":\"integer\",\"nullable\":true,\"metadata\":{}},{\"name\":\"Year\",\"type\":\"integer\",\"nullable\":true,\"metadata\":{}},{\"name\":\"Quarter\",\"type\":\"string\",\"nullable\":true,\"metadata\":{}},{\"name\":\"Total_Revenue\",\"type\":\"string\",\"nullable\":true,\"metadata\":{}},{\"name\":\"_rescued_data\",\"type\":\"string\",\"nullable\":true,\"metadata\":{}},{\"name\":\"COGS\",\"type\":\"integer\",\"nullable\":true,\"metadata\":{}}]}</td><td>List(0801-194747-f0qk6m1o, Databricks-Runtime/15.3.x-cpu-ml-scala2.12, true, WriteSerializable, List(3309121777485539), STREAMING UPDATE, List(null, null, null, null), List(null, null, -1, null, Append, null, null, 58c82e50-133e-4f0e-93ed-ca0e65758278, false), 5, List(false), 1724867567555, 4dd5fb59-db91-42f5-91ce-1e3e23380340, 7971536220129282, matthew.resner@group1001.com)</td><td>List(List(true), 1724867463455, List(parquet), 0bde0511-7d01-4e42-a5fb-35d8b714d209, List(), {\"type\":\"struct\",\"fields\":[{\"name\":\"Row_ID\",\"type\":\"integer\",\"nullable\":true,\"metadata\":{}},{\"name\":\"Store_ID\",\"type\":\"integer\",\"nullable\":true,\"metadata\":{}},{\"name\":\"Year\",\"type\":\"integer\",\"nullable\":true,\"metadata\":{}},{\"name\":\"Quarter\",\"type\":\"string\",\"nullable\":true,\"metadata\":{}},{\"name\":\"Total_Revenue\",\"type\":\"string\",\"nullable\":true,\"metadata\":{}},{\"name\":\"_rescued_data\",\"type\":\"string\",\"nullable\":true,\"metadata\":{}},{\"name\":\"COGS\",\"type\":\"integer\",\"nullable\":true,\"metadata\":{}},{\"name\":\"Profit\",\"type\":\"double\",\"nullable\":true,\"metadata\":{}}]})</td></tr><tr><td>bronze_tj_fact_revenue</td><td>00000000000000000003.json</td><td>2024-08-28 17:52:18</td><td>{\"type\":\"struct\",\"fields\":[{\"name\":\"Row_ID\",\"type\":\"integer\",\"nullable\":true,\"metadata\":{}},{\"name\":\"Store_ID\",\"type\":\"integer\",\"nullable\":true,\"metadata\":{}},{\"name\":\"Year\",\"type\":\"integer\",\"nullable\":true,\"metadata\":{}},{\"name\":\"Quarter\",\"type\":\"string\",\"nullable\":true,\"metadata\":{}},{\"name\":\"Total_Revenue\",\"type\":\"string\",\"nullable\":true,\"metadata\":{}},{\"name\":\"_rescued_data\",\"type\":\"string\",\"nullable\":true,\"metadata\":{}},{\"name\":\"COGS\",\"type\":\"integer\",\"nullable\":true,\"metadata\":{}}]}</td><td>{\"type\":\"struct\",\"fields\":[{\"name\":\"Row_ID\",\"type\":\"integer\",\"nullable\":true,\"metadata\":{}},{\"name\":\"Store_ID\",\"type\":\"integer\",\"nullable\":true,\"metadata\":{}},{\"name\":\"Year\",\"type\":\"integer\",\"nullable\":true,\"metadata\":{}},{\"name\":\"Quarter\",\"type\":\"string\",\"nullable\":true,\"metadata\":{}},{\"name\":\"Total_Revenue\",\"type\":\"string\",\"nullable\":true,\"metadata\":{}},{\"name\":\"_rescued_data\",\"type\":\"string\",\"nullable\":true,\"metadata\":{}}]}</td><td>List(0801-194747-f0qk6m1o, Databricks-Runtime/15.3.x-cpu-ml-scala2.12, true, WriteSerializable, List(3309121777485539), STREAMING UPDATE, List(null, null, null, null), List(null, null, -1, null, Append, null, null, 58c82e50-133e-4f0e-93ed-ca0e65758278, false), 2, List(false), 1724867538429, fccaa851-0892-4742-b042-c680336e99a2, 7971536220129282, matthew.resner@group1001.com)</td><td>List(List(true), 1724867463455, List(parquet), 0bde0511-7d01-4e42-a5fb-35d8b714d209, List(), {\"type\":\"struct\",\"fields\":[{\"name\":\"Row_ID\",\"type\":\"integer\",\"nullable\":true,\"metadata\":{}},{\"name\":\"Store_ID\",\"type\":\"integer\",\"nullable\":true,\"metadata\":{}},{\"name\":\"Year\",\"type\":\"integer\",\"nullable\":true,\"metadata\":{}},{\"name\":\"Quarter\",\"type\":\"string\",\"nullable\":true,\"metadata\":{}},{\"name\":\"Total_Revenue\",\"type\":\"string\",\"nullable\":true,\"metadata\":{}},{\"name\":\"_rescued_data\",\"type\":\"string\",\"nullable\":true,\"metadata\":{}},{\"name\":\"COGS\",\"type\":\"integer\",\"nullable\":true,\"metadata\":{}}]})</td></tr><tr><td>bronze_tj_fact_revenue</td><td>00000000000000000001.json</td><td>2024-08-28 17:51:39</td><td>{\"type\":\"struct\",\"fields\":[{\"name\":\"Row_ID\",\"type\":\"integer\",\"nullable\":true,\"metadata\":{}},{\"name\":\"Store_ID\",\"type\":\"integer\",\"nullable\":true,\"metadata\":{}},{\"name\":\"Year\",\"type\":\"integer\",\"nullable\":true,\"metadata\":{}},{\"name\":\"Quarter\",\"type\":\"string\",\"nullable\":true,\"metadata\":{}},{\"name\":\"Total_Revenue\",\"type\":\"string\",\"nullable\":true,\"metadata\":{}},{\"name\":\"_rescued_data\",\"type\":\"string\",\"nullable\":true,\"metadata\":{}}]}</td><td>{\"type\":\"struct\",\"fields\":[]}</td><td>List(0801-194747-f0qk6m1o, Databricks-Runtime/15.3.x-cpu-ml-scala2.12, true, WriteSerializable, List(3309121777485539), STREAMING UPDATE, List(null, null, null, null), List(null, null, -1, null, Append, null, null, 58c82e50-133e-4f0e-93ed-ca0e65758278, false), 0, List(false), 1724867499107, a5a5c724-5609-4ba2-bef3-9de94d73748a, 7971536220129282, matthew.resner@group1001.com)</td><td>List(List(true), 1724867463455, List(parquet), 0bde0511-7d01-4e42-a5fb-35d8b714d209, List(), {\"type\":\"struct\",\"fields\":[{\"name\":\"Row_ID\",\"type\":\"integer\",\"nullable\":true,\"metadata\":{}},{\"name\":\"Store_ID\",\"type\":\"integer\",\"nullable\":true,\"metadata\":{}},{\"name\":\"Year\",\"type\":\"integer\",\"nullable\":true,\"metadata\":{}},{\"name\":\"Quarter\",\"type\":\"string\",\"nullable\":true,\"metadata\":{}},{\"name\":\"Total_Revenue\",\"type\":\"string\",\"nullable\":true,\"metadata\":{}},{\"name\":\"_rescued_data\",\"type\":\"string\",\"nullable\":true,\"metadata\":{}}]})</td></tr><tr><td>bronze_tj_fact_revenue</td><td>00000000000000000000.json</td><td>2024-08-28 17:51:03</td><td>{\"type\":\"struct\",\"fields\":[]}</td><td>null</td><td>List(0801-194747-f0qk6m1o, Databricks-Runtime/15.3.x-cpu-ml-scala2.12, true, WriteSerializable, List(285342671664234), CREATE TABLE, List(null, null, null, null), List([], null, null, true, null, [], {\"delta.enableDeletionVectors\":\"true\"}, null, false), null, List(false), 1724867463892, 74052df9-40b0-48ee-b209-10e161b89246, 7971536220129282, matthew.resner@group1001.com)</td><td>List(List(true), 1724867463455, List(parquet), 0bde0511-7d01-4e42-a5fb-35d8b714d209, List(), {\"type\":\"struct\",\"fields\":[]})</td></tr></tbody></table></div>"
      ]
     },
     "metadata": {
      "application/vnd.databricks.v1+output": {
       "addedWidgets": {},
       "aggData": [],
       "aggError": "",
       "aggOverflow": false,
       "aggSchema": [],
       "aggSeriesLimitReached": false,
       "aggType": "",
       "arguments": {},
       "columnCustomDisplayInfos": {},
       "data": [
        [
         "bronze_tj_fact_revenue",
         "00000000000000000006.json",
         "2024-08-28 17:52:47",
         "{\"type\":\"struct\",\"fields\":[{\"name\":\"Row_ID\",\"type\":\"integer\",\"nullable\":true,\"metadata\":{}},{\"name\":\"Store_ID\",\"type\":\"integer\",\"nullable\":true,\"metadata\":{}},{\"name\":\"Year\",\"type\":\"integer\",\"nullable\":true,\"metadata\":{}},{\"name\":\"Quarter\",\"type\":\"string\",\"nullable\":true,\"metadata\":{}},{\"name\":\"Total_Revenue\",\"type\":\"string\",\"nullable\":true,\"metadata\":{}},{\"name\":\"_rescued_data\",\"type\":\"string\",\"nullable\":true,\"metadata\":{}},{\"name\":\"COGS\",\"type\":\"integer\",\"nullable\":true,\"metadata\":{}},{\"name\":\"Profit\",\"type\":\"double\",\"nullable\":true,\"metadata\":{}}]}",
         "{\"type\":\"struct\",\"fields\":[{\"name\":\"Row_ID\",\"type\":\"integer\",\"nullable\":true,\"metadata\":{}},{\"name\":\"Store_ID\",\"type\":\"integer\",\"nullable\":true,\"metadata\":{}},{\"name\":\"Year\",\"type\":\"integer\",\"nullable\":true,\"metadata\":{}},{\"name\":\"Quarter\",\"type\":\"string\",\"nullable\":true,\"metadata\":{}},{\"name\":\"Total_Revenue\",\"type\":\"string\",\"nullable\":true,\"metadata\":{}},{\"name\":\"_rescued_data\",\"type\":\"string\",\"nullable\":true,\"metadata\":{}},{\"name\":\"COGS\",\"type\":\"integer\",\"nullable\":true,\"metadata\":{}}]}",
         [
          "0801-194747-f0qk6m1o",
          "Databricks-Runtime/15.3.x-cpu-ml-scala2.12",
          true,
          "WriteSerializable",
          [
           "3309121777485539"
          ],
          "STREAMING UPDATE",
          [
           null,
           null,
           null,
           null
          ],
          [
           null,
           null,
           "-1",
           null,
           "Append",
           null,
           null,
           "58c82e50-133e-4f0e-93ed-ca0e65758278",
           false
          ],
          5,
          [
           "false"
          ],
          1724867567555,
          "4dd5fb59-db91-42f5-91ce-1e3e23380340",
          "7971536220129282",
          "matthew.resner@group1001.com"
         ],
         [
          [
           "true"
          ],
          1724867463455,
          [
           "parquet"
          ],
          "0bde0511-7d01-4e42-a5fb-35d8b714d209",
          [],
          "{\"type\":\"struct\",\"fields\":[{\"name\":\"Row_ID\",\"type\":\"integer\",\"nullable\":true,\"metadata\":{}},{\"name\":\"Store_ID\",\"type\":\"integer\",\"nullable\":true,\"metadata\":{}},{\"name\":\"Year\",\"type\":\"integer\",\"nullable\":true,\"metadata\":{}},{\"name\":\"Quarter\",\"type\":\"string\",\"nullable\":true,\"metadata\":{}},{\"name\":\"Total_Revenue\",\"type\":\"string\",\"nullable\":true,\"metadata\":{}},{\"name\":\"_rescued_data\",\"type\":\"string\",\"nullable\":true,\"metadata\":{}},{\"name\":\"COGS\",\"type\":\"integer\",\"nullable\":true,\"metadata\":{}},{\"name\":\"Profit\",\"type\":\"double\",\"nullable\":true,\"metadata\":{}}]}"
         ]
        ],
        [
         "bronze_tj_fact_revenue",
         "00000000000000000003.json",
         "2024-08-28 17:52:18",
         "{\"type\":\"struct\",\"fields\":[{\"name\":\"Row_ID\",\"type\":\"integer\",\"nullable\":true,\"metadata\":{}},{\"name\":\"Store_ID\",\"type\":\"integer\",\"nullable\":true,\"metadata\":{}},{\"name\":\"Year\",\"type\":\"integer\",\"nullable\":true,\"metadata\":{}},{\"name\":\"Quarter\",\"type\":\"string\",\"nullable\":true,\"metadata\":{}},{\"name\":\"Total_Revenue\",\"type\":\"string\",\"nullable\":true,\"metadata\":{}},{\"name\":\"_rescued_data\",\"type\":\"string\",\"nullable\":true,\"metadata\":{}},{\"name\":\"COGS\",\"type\":\"integer\",\"nullable\":true,\"metadata\":{}}]}",
         "{\"type\":\"struct\",\"fields\":[{\"name\":\"Row_ID\",\"type\":\"integer\",\"nullable\":true,\"metadata\":{}},{\"name\":\"Store_ID\",\"type\":\"integer\",\"nullable\":true,\"metadata\":{}},{\"name\":\"Year\",\"type\":\"integer\",\"nullable\":true,\"metadata\":{}},{\"name\":\"Quarter\",\"type\":\"string\",\"nullable\":true,\"metadata\":{}},{\"name\":\"Total_Revenue\",\"type\":\"string\",\"nullable\":true,\"metadata\":{}},{\"name\":\"_rescued_data\",\"type\":\"string\",\"nullable\":true,\"metadata\":{}}]}",
         [
          "0801-194747-f0qk6m1o",
          "Databricks-Runtime/15.3.x-cpu-ml-scala2.12",
          true,
          "WriteSerializable",
          [
           "3309121777485539"
          ],
          "STREAMING UPDATE",
          [
           null,
           null,
           null,
           null
          ],
          [
           null,
           null,
           "-1",
           null,
           "Append",
           null,
           null,
           "58c82e50-133e-4f0e-93ed-ca0e65758278",
           false
          ],
          2,
          [
           "false"
          ],
          1724867538429,
          "fccaa851-0892-4742-b042-c680336e99a2",
          "7971536220129282",
          "matthew.resner@group1001.com"
         ],
         [
          [
           "true"
          ],
          1724867463455,
          [
           "parquet"
          ],
          "0bde0511-7d01-4e42-a5fb-35d8b714d209",
          [],
          "{\"type\":\"struct\",\"fields\":[{\"name\":\"Row_ID\",\"type\":\"integer\",\"nullable\":true,\"metadata\":{}},{\"name\":\"Store_ID\",\"type\":\"integer\",\"nullable\":true,\"metadata\":{}},{\"name\":\"Year\",\"type\":\"integer\",\"nullable\":true,\"metadata\":{}},{\"name\":\"Quarter\",\"type\":\"string\",\"nullable\":true,\"metadata\":{}},{\"name\":\"Total_Revenue\",\"type\":\"string\",\"nullable\":true,\"metadata\":{}},{\"name\":\"_rescued_data\",\"type\":\"string\",\"nullable\":true,\"metadata\":{}},{\"name\":\"COGS\",\"type\":\"integer\",\"nullable\":true,\"metadata\":{}}]}"
         ]
        ],
        [
         "bronze_tj_fact_revenue",
         "00000000000000000001.json",
         "2024-08-28 17:51:39",
         "{\"type\":\"struct\",\"fields\":[{\"name\":\"Row_ID\",\"type\":\"integer\",\"nullable\":true,\"metadata\":{}},{\"name\":\"Store_ID\",\"type\":\"integer\",\"nullable\":true,\"metadata\":{}},{\"name\":\"Year\",\"type\":\"integer\",\"nullable\":true,\"metadata\":{}},{\"name\":\"Quarter\",\"type\":\"string\",\"nullable\":true,\"metadata\":{}},{\"name\":\"Total_Revenue\",\"type\":\"string\",\"nullable\":true,\"metadata\":{}},{\"name\":\"_rescued_data\",\"type\":\"string\",\"nullable\":true,\"metadata\":{}}]}",
         "{\"type\":\"struct\",\"fields\":[]}",
         [
          "0801-194747-f0qk6m1o",
          "Databricks-Runtime/15.3.x-cpu-ml-scala2.12",
          true,
          "WriteSerializable",
          [
           "3309121777485539"
          ],
          "STREAMING UPDATE",
          [
           null,
           null,
           null,
           null
          ],
          [
           null,
           null,
           "-1",
           null,
           "Append",
           null,
           null,
           "58c82e50-133e-4f0e-93ed-ca0e65758278",
           false
          ],
          0,
          [
           "false"
          ],
          1724867499107,
          "a5a5c724-5609-4ba2-bef3-9de94d73748a",
          "7971536220129282",
          "matthew.resner@group1001.com"
         ],
         [
          [
           "true"
          ],
          1724867463455,
          [
           "parquet"
          ],
          "0bde0511-7d01-4e42-a5fb-35d8b714d209",
          [],
          "{\"type\":\"struct\",\"fields\":[{\"name\":\"Row_ID\",\"type\":\"integer\",\"nullable\":true,\"metadata\":{}},{\"name\":\"Store_ID\",\"type\":\"integer\",\"nullable\":true,\"metadata\":{}},{\"name\":\"Year\",\"type\":\"integer\",\"nullable\":true,\"metadata\":{}},{\"name\":\"Quarter\",\"type\":\"string\",\"nullable\":true,\"metadata\":{}},{\"name\":\"Total_Revenue\",\"type\":\"string\",\"nullable\":true,\"metadata\":{}},{\"name\":\"_rescued_data\",\"type\":\"string\",\"nullable\":true,\"metadata\":{}}]}"
         ]
        ],
        [
         "bronze_tj_fact_revenue",
         "00000000000000000000.json",
         "2024-08-28 17:51:03",
         "{\"type\":\"struct\",\"fields\":[]}",
         null,
         [
          "0801-194747-f0qk6m1o",
          "Databricks-Runtime/15.3.x-cpu-ml-scala2.12",
          true,
          "WriteSerializable",
          [
           "285342671664234"
          ],
          "CREATE TABLE",
          [
           null,
           null,
           null,
           null
          ],
          [
           "[]",
           null,
           null,
           "true",
           null,
           "[]",
           "{\"delta.enableDeletionVectors\":\"true\"}",
           null,
           false
          ],
          null,
          [
           "false"
          ],
          1724867463892,
          "74052df9-40b0-48ee-b209-10e161b89246",
          "7971536220129282",
          "matthew.resner@group1001.com"
         ],
         [
          [
           "true"
          ],
          1724867463455,
          [
           "parquet"
          ],
          "0bde0511-7d01-4e42-a5fb-35d8b714d209",
          [],
          "{\"type\":\"struct\",\"fields\":[]}"
         ]
        ]
       ],
       "datasetInfos": [],
       "dbfsResultPath": null,
       "isJsonSchema": true,
       "metadata": {},
       "overflow": false,
       "plotOptions": {
        "customPlotOptions": {},
        "displayType": "table",
        "pivotAggregation": null,
        "pivotColumns": null,
        "xColumns": null,
        "yColumns": null
       },
       "removedWidgets": [],
       "schema": [
        {
         "metadata": "{}",
         "name": "table_name",
         "type": "\"string\""
        },
        {
         "metadata": "{}",
         "name": "schema_version",
         "type": "\"string\""
        },
        {
         "metadata": "{}",
         "name": "timestamp",
         "type": "\"string\""
        },
        {
         "metadata": "{}",
         "name": "current_schemaString",
         "type": "\"string\""
        },
        {
         "metadata": "{}",
         "name": "prev_schemaString",
         "type": "\"string\""
        },
        {
         "metadata": "{}",
         "name": "commitInfo",
         "type": "{\"type\":\"struct\",\"fields\":[{\"name\":\"clusterId\",\"type\":\"string\",\"nullable\":true,\"metadata\":{}},{\"name\":\"engineInfo\",\"type\":\"string\",\"nullable\":true,\"metadata\":{}},{\"name\":\"isBlindAppend\",\"type\":\"boolean\",\"nullable\":true,\"metadata\":{}},{\"name\":\"isolationLevel\",\"type\":\"string\",\"nullable\":true,\"metadata\":{}},{\"name\":\"notebook\",\"type\":{\"type\":\"struct\",\"fields\":[{\"name\":\"notebookId\",\"type\":\"string\",\"nullable\":true,\"metadata\":{}}]},\"nullable\":true,\"metadata\":{}},{\"name\":\"operation\",\"type\":\"string\",\"nullable\":true,\"metadata\":{}},{\"name\":\"operationMetrics\",\"type\":{\"type\":\"struct\",\"fields\":[{\"name\":\"numAddedFiles\",\"type\":\"string\",\"nullable\":true,\"metadata\":{}},{\"name\":\"numOutputBytes\",\"type\":\"string\",\"nullable\":true,\"metadata\":{}},{\"name\":\"numOutputRows\",\"type\":\"string\",\"nullable\":true,\"metadata\":{}},{\"name\":\"numRemovedFiles\",\"type\":\"string\",\"nullable\":true,\"metadata\":{}}]},\"nullable\":true,\"metadata\":{}},{\"name\":\"operationParameters\",\"type\":{\"type\":\"struct\",\"fields\":[{\"name\":\"clusterBy\",\"type\":\"string\",\"nullable\":true,\"metadata\":{}},{\"name\":\"description\",\"type\":\"string\",\"nullable\":true,\"metadata\":{}},{\"name\":\"epochId\",\"type\":\"string\",\"nullable\":true,\"metadata\":{}},{\"name\":\"isManaged\",\"type\":\"string\",\"nullable\":true,\"metadata\":{}},{\"name\":\"outputMode\",\"type\":\"string\",\"nullable\":true,\"metadata\":{}},{\"name\":\"partitionBy\",\"type\":\"string\",\"nullable\":true,\"metadata\":{}},{\"name\":\"properties\",\"type\":\"string\",\"nullable\":true,\"metadata\":{}},{\"name\":\"queryId\",\"type\":\"string\",\"nullable\":true,\"metadata\":{}},{\"name\":\"statsOnLoad\",\"type\":\"boolean\",\"nullable\":true,\"metadata\":{}}]},\"nullable\":true,\"metadata\":{}},{\"name\":\"readVersion\",\"type\":\"long\",\"nullable\":true,\"metadata\":{}},{\"name\":\"tags\",\"type\":{\"type\":\"struct\",\"fields\":[{\"name\":\"restoresDeletedRows\",\"type\":\"string\",\"nullable\":true,\"metadata\":{}}]},\"nullable\":true,\"metadata\":{}},{\"name\":\"timestamp\",\"type\":\"long\",\"nullable\":true,\"metadata\":{}},{\"name\":\"txnId\",\"type\":\"string\",\"nullable\":true,\"metadata\":{}},{\"name\":\"userId\",\"type\":\"string\",\"nullable\":true,\"metadata\":{}},{\"name\":\"userName\",\"type\":\"string\",\"nullable\":true,\"metadata\":{}}]}"
        },
        {
         "metadata": "{}",
         "name": "metaData",
         "type": "{\"type\":\"struct\",\"fields\":[{\"name\":\"configuration\",\"type\":{\"type\":\"struct\",\"fields\":[{\"name\":\"delta.enableDeletionVectors\",\"type\":\"string\",\"nullable\":true,\"metadata\":{}}]},\"nullable\":true,\"metadata\":{}},{\"name\":\"createdTime\",\"type\":\"long\",\"nullable\":true,\"metadata\":{}},{\"name\":\"format\",\"type\":{\"type\":\"struct\",\"fields\":[{\"name\":\"provider\",\"type\":\"string\",\"nullable\":true,\"metadata\":{}}]},\"nullable\":true,\"metadata\":{}},{\"name\":\"id\",\"type\":\"string\",\"nullable\":true,\"metadata\":{}},{\"name\":\"partitionColumns\",\"type\":{\"type\":\"array\",\"elementType\":\"string\",\"containsNull\":true},\"nullable\":true,\"metadata\":{}},{\"name\":\"schemaString\",\"type\":\"string\",\"nullable\":true,\"metadata\":{}}]}"
        }
       ],
       "type": "table"
      }
     },
     "output_type": "display_data"
    }
   ],
   "source": [
    "# Struct Selection to access schema variances using windowing\n",
    "from pyspark.sql.functions import input_file_name, regexp_extract, col, explode, struct, from_unixtime\n",
    "\n",
    "spark.read.json(\"dbfs:/FileStore/tables/TraderJoesRevenue/bronze_tj_fact_revenue/_delta_log/*.json\")\\\n",
    "    .withColumn(\"table_name\", regexp_extract(input_file_name(), r'/tables/TraderJoesRevenue/(.*?)/_delta_log/', 1))\\\n",
    "    .withColumn(\"schema_version\", regexp_extract(input_file_name(), r'(\\d+)\\.json$', 0))\\\n",
    "    .createOrReplaceTempView(\"delta_log\")\n",
    "\n",
    "#windowing function here\n",
    "df =(spark.sql(\" \\\n",
    "    select a.table_name, a.schema_version, from_unixtime(b.commitInfo.timestamp / 1000) as timestamp, a.metaData.schemaString AS current_schemaString, LAG(a.metaData.schemaString, 1) OVER(PARTITION BY a.table_name ORDER BY a.schema_version) AS prev_schemaString ,b.commitInfo , a.metaData  \\\n",
    "    from delta_log a \\\n",
    "    left join delta_log b on a.schema_version = b.schema_version AND b.commitInfo is not null\\\n",
    "    WHERE a.metaData is not null and a.schema_version <> '' \\\n",
    "    ORDER BY a.schema_version DESC\"))\n",
    "\n",
    "display(df)"
   ]
  },
  {
   "cell_type": "markdown",
   "metadata": {
    "application/vnd.databricks.v1+cell": {
     "cellMetadata": {},
     "inputWidgets": {},
     "nuid": "2f98426c-e8c5-4632-8520-131f006ed1ec",
     "showTitle": false,
     "title": ""
    }
   },
   "source": [
    "Now time for a UDF to compare the previous and current schema, find the differences and then write those differences to a new column using df.withcolumn again"
   ]
  },
  {
   "cell_type": "code",
   "execution_count": 0,
   "metadata": {
    "application/vnd.databricks.v1+cell": {
     "cellMetadata": {
      "byteLimit": 2048000,
      "rowLimit": 10000
     },
     "inputWidgets": {},
     "nuid": "12192c23-1ed5-4054-9b46-95eac1672a33",
     "showTitle": false,
     "title": ""
    }
   },
   "outputs": [
    {
     "output_type": "display_data",
     "data": {
      "text/html": [
       "<style scoped>\n",
       "  .table-result-container {\n",
       "    max-height: 300px;\n",
       "    overflow: auto;\n",
       "  }\n",
       "  table, th, td {\n",
       "    border: 1px solid black;\n",
       "    border-collapse: collapse;\n",
       "  }\n",
       "  th, td {\n",
       "    padding: 5px;\n",
       "  }\n",
       "  th {\n",
       "    text-align: left;\n",
       "  }\n",
       "</style><div class='table-result-container'><table class='table-result'><thead style='background-color: white'><tr><th>table_name</th><th>schema_version</th><th>timestamp</th><th>current_schemaString</th><th>prev_schemaString</th><th>commitInfo</th><th>metaData</th><th>schema_changes</th></tr></thead><tbody><tr><td>bronze_tj_fact_revenue</td><td>00000000000000000006.json</td><td>2024-08-28 17:52:47</td><td>{\"type\":\"struct\",\"fields\":[{\"name\":\"Row_ID\",\"type\":\"integer\",\"nullable\":true,\"metadata\":{}},{\"name\":\"Store_ID\",\"type\":\"integer\",\"nullable\":true,\"metadata\":{}},{\"name\":\"Year\",\"type\":\"integer\",\"nullable\":true,\"metadata\":{}},{\"name\":\"Quarter\",\"type\":\"string\",\"nullable\":true,\"metadata\":{}},{\"name\":\"Total_Revenue\",\"type\":\"string\",\"nullable\":true,\"metadata\":{}},{\"name\":\"_rescued_data\",\"type\":\"string\",\"nullable\":true,\"metadata\":{}},{\"name\":\"COGS\",\"type\":\"integer\",\"nullable\":true,\"metadata\":{}},{\"name\":\"Profit\",\"type\":\"double\",\"nullable\":true,\"metadata\":{}}]}</td><td>{\"type\":\"struct\",\"fields\":[{\"name\":\"Row_ID\",\"type\":\"integer\",\"nullable\":true,\"metadata\":{}},{\"name\":\"Store_ID\",\"type\":\"integer\",\"nullable\":true,\"metadata\":{}},{\"name\":\"Year\",\"type\":\"integer\",\"nullable\":true,\"metadata\":{}},{\"name\":\"Quarter\",\"type\":\"string\",\"nullable\":true,\"metadata\":{}},{\"name\":\"Total_Revenue\",\"type\":\"string\",\"nullable\":true,\"metadata\":{}},{\"name\":\"_rescued_data\",\"type\":\"string\",\"nullable\":true,\"metadata\":{}},{\"name\":\"COGS\",\"type\":\"integer\",\"nullable\":true,\"metadata\":{}}]}</td><td>List(0801-194747-f0qk6m1o, Databricks-Runtime/15.3.x-cpu-ml-scala2.12, true, WriteSerializable, List(3309121777485539), STREAMING UPDATE, List(null, null, null, null), List(null, null, -1, null, Append, null, null, 58c82e50-133e-4f0e-93ed-ca0e65758278, false), 5, List(false), 1724867567555, 4dd5fb59-db91-42f5-91ce-1e3e23380340, 7971536220129282, matthew.resner@group1001.com)</td><td>List(List(true), 1724867463455, List(parquet), 0bde0511-7d01-4e42-a5fb-35d8b714d209, List(), {\"type\":\"struct\",\"fields\":[{\"name\":\"Row_ID\",\"type\":\"integer\",\"nullable\":true,\"metadata\":{}},{\"name\":\"Store_ID\",\"type\":\"integer\",\"nullable\":true,\"metadata\":{}},{\"name\":\"Year\",\"type\":\"integer\",\"nullable\":true,\"metadata\":{}},{\"name\":\"Quarter\",\"type\":\"string\",\"nullable\":true,\"metadata\":{}},{\"name\":\"Total_Revenue\",\"type\":\"string\",\"nullable\":true,\"metadata\":{}},{\"name\":\"_rescued_data\",\"type\":\"string\",\"nullable\":true,\"metadata\":{}},{\"name\":\"COGS\",\"type\":\"integer\",\"nullable\":true,\"metadata\":{}},{\"name\":\"Profit\",\"type\":\"double\",\"nullable\":true,\"metadata\":{}}]})</td><td>Added: ['Profit'], Removed: []</td></tr><tr><td>bronze_tj_fact_revenue</td><td>00000000000000000003.json</td><td>2024-08-28 17:52:18</td><td>{\"type\":\"struct\",\"fields\":[{\"name\":\"Row_ID\",\"type\":\"integer\",\"nullable\":true,\"metadata\":{}},{\"name\":\"Store_ID\",\"type\":\"integer\",\"nullable\":true,\"metadata\":{}},{\"name\":\"Year\",\"type\":\"integer\",\"nullable\":true,\"metadata\":{}},{\"name\":\"Quarter\",\"type\":\"string\",\"nullable\":true,\"metadata\":{}},{\"name\":\"Total_Revenue\",\"type\":\"string\",\"nullable\":true,\"metadata\":{}},{\"name\":\"_rescued_data\",\"type\":\"string\",\"nullable\":true,\"metadata\":{}},{\"name\":\"COGS\",\"type\":\"integer\",\"nullable\":true,\"metadata\":{}}]}</td><td>{\"type\":\"struct\",\"fields\":[{\"name\":\"Row_ID\",\"type\":\"integer\",\"nullable\":true,\"metadata\":{}},{\"name\":\"Store_ID\",\"type\":\"integer\",\"nullable\":true,\"metadata\":{}},{\"name\":\"Year\",\"type\":\"integer\",\"nullable\":true,\"metadata\":{}},{\"name\":\"Quarter\",\"type\":\"string\",\"nullable\":true,\"metadata\":{}},{\"name\":\"Total_Revenue\",\"type\":\"string\",\"nullable\":true,\"metadata\":{}},{\"name\":\"_rescued_data\",\"type\":\"string\",\"nullable\":true,\"metadata\":{}}]}</td><td>List(0801-194747-f0qk6m1o, Databricks-Runtime/15.3.x-cpu-ml-scala2.12, true, WriteSerializable, List(3309121777485539), STREAMING UPDATE, List(null, null, null, null), List(null, null, -1, null, Append, null, null, 58c82e50-133e-4f0e-93ed-ca0e65758278, false), 2, List(false), 1724867538429, fccaa851-0892-4742-b042-c680336e99a2, 7971536220129282, matthew.resner@group1001.com)</td><td>List(List(true), 1724867463455, List(parquet), 0bde0511-7d01-4e42-a5fb-35d8b714d209, List(), {\"type\":\"struct\",\"fields\":[{\"name\":\"Row_ID\",\"type\":\"integer\",\"nullable\":true,\"metadata\":{}},{\"name\":\"Store_ID\",\"type\":\"integer\",\"nullable\":true,\"metadata\":{}},{\"name\":\"Year\",\"type\":\"integer\",\"nullable\":true,\"metadata\":{}},{\"name\":\"Quarter\",\"type\":\"string\",\"nullable\":true,\"metadata\":{}},{\"name\":\"Total_Revenue\",\"type\":\"string\",\"nullable\":true,\"metadata\":{}},{\"name\":\"_rescued_data\",\"type\":\"string\",\"nullable\":true,\"metadata\":{}},{\"name\":\"COGS\",\"type\":\"integer\",\"nullable\":true,\"metadata\":{}}]})</td><td>Added: ['COGS'], Removed: []</td></tr><tr><td>bronze_tj_fact_revenue</td><td>00000000000000000001.json</td><td>2024-08-28 17:51:39</td><td>{\"type\":\"struct\",\"fields\":[{\"name\":\"Row_ID\",\"type\":\"integer\",\"nullable\":true,\"metadata\":{}},{\"name\":\"Store_ID\",\"type\":\"integer\",\"nullable\":true,\"metadata\":{}},{\"name\":\"Year\",\"type\":\"integer\",\"nullable\":true,\"metadata\":{}},{\"name\":\"Quarter\",\"type\":\"string\",\"nullable\":true,\"metadata\":{}},{\"name\":\"Total_Revenue\",\"type\":\"string\",\"nullable\":true,\"metadata\":{}},{\"name\":\"_rescued_data\",\"type\":\"string\",\"nullable\":true,\"metadata\":{}}]}</td><td>{\"type\":\"struct\",\"fields\":[]}</td><td>List(0801-194747-f0qk6m1o, Databricks-Runtime/15.3.x-cpu-ml-scala2.12, true, WriteSerializable, List(3309121777485539), STREAMING UPDATE, List(null, null, null, null), List(null, null, -1, null, Append, null, null, 58c82e50-133e-4f0e-93ed-ca0e65758278, false), 0, List(false), 1724867499107, a5a5c724-5609-4ba2-bef3-9de94d73748a, 7971536220129282, matthew.resner@group1001.com)</td><td>List(List(true), 1724867463455, List(parquet), 0bde0511-7d01-4e42-a5fb-35d8b714d209, List(), {\"type\":\"struct\",\"fields\":[{\"name\":\"Row_ID\",\"type\":\"integer\",\"nullable\":true,\"metadata\":{}},{\"name\":\"Store_ID\",\"type\":\"integer\",\"nullable\":true,\"metadata\":{}},{\"name\":\"Year\",\"type\":\"integer\",\"nullable\":true,\"metadata\":{}},{\"name\":\"Quarter\",\"type\":\"string\",\"nullable\":true,\"metadata\":{}},{\"name\":\"Total_Revenue\",\"type\":\"string\",\"nullable\":true,\"metadata\":{}},{\"name\":\"_rescued_data\",\"type\":\"string\",\"nullable\":true,\"metadata\":{}}]})</td><td>Added: ['Row_ID', 'Year', 'Quarter', 'Total_Revenue', 'Store_ID', '_rescued_data'], Removed: []</td></tr><tr><td>bronze_tj_fact_revenue</td><td>00000000000000000000.json</td><td>2024-08-28 17:51:03</td><td>{\"type\":\"struct\",\"fields\":[]}</td><td>null</td><td>List(0801-194747-f0qk6m1o, Databricks-Runtime/15.3.x-cpu-ml-scala2.12, true, WriteSerializable, List(285342671664234), CREATE TABLE, List(null, null, null, null), List([], null, null, true, null, [], {\"delta.enableDeletionVectors\":\"true\"}, null, false), null, List(false), 1724867463892, 74052df9-40b0-48ee-b209-10e161b89246, 7971536220129282, matthew.resner@group1001.com)</td><td>List(List(true), 1724867463455, List(parquet), 0bde0511-7d01-4e42-a5fb-35d8b714d209, List(), {\"type\":\"struct\",\"fields\":[]})</td><td>No previous schema</td></tr></tbody></table></div>"
      ]
     },
     "metadata": {
      "application/vnd.databricks.v1+output": {
       "addedWidgets": {},
       "aggData": [],
       "aggError": "",
       "aggOverflow": false,
       "aggSchema": [],
       "aggSeriesLimitReached": false,
       "aggType": "",
       "arguments": {},
       "columnCustomDisplayInfos": {},
       "data": [
        [
         "bronze_tj_fact_revenue",
         "00000000000000000006.json",
         "2024-08-28 17:52:47",
         "{\"type\":\"struct\",\"fields\":[{\"name\":\"Row_ID\",\"type\":\"integer\",\"nullable\":true,\"metadata\":{}},{\"name\":\"Store_ID\",\"type\":\"integer\",\"nullable\":true,\"metadata\":{}},{\"name\":\"Year\",\"type\":\"integer\",\"nullable\":true,\"metadata\":{}},{\"name\":\"Quarter\",\"type\":\"string\",\"nullable\":true,\"metadata\":{}},{\"name\":\"Total_Revenue\",\"type\":\"string\",\"nullable\":true,\"metadata\":{}},{\"name\":\"_rescued_data\",\"type\":\"string\",\"nullable\":true,\"metadata\":{}},{\"name\":\"COGS\",\"type\":\"integer\",\"nullable\":true,\"metadata\":{}},{\"name\":\"Profit\",\"type\":\"double\",\"nullable\":true,\"metadata\":{}}]}",
         "{\"type\":\"struct\",\"fields\":[{\"name\":\"Row_ID\",\"type\":\"integer\",\"nullable\":true,\"metadata\":{}},{\"name\":\"Store_ID\",\"type\":\"integer\",\"nullable\":true,\"metadata\":{}},{\"name\":\"Year\",\"type\":\"integer\",\"nullable\":true,\"metadata\":{}},{\"name\":\"Quarter\",\"type\":\"string\",\"nullable\":true,\"metadata\":{}},{\"name\":\"Total_Revenue\",\"type\":\"string\",\"nullable\":true,\"metadata\":{}},{\"name\":\"_rescued_data\",\"type\":\"string\",\"nullable\":true,\"metadata\":{}},{\"name\":\"COGS\",\"type\":\"integer\",\"nullable\":true,\"metadata\":{}}]}",
         [
          "0801-194747-f0qk6m1o",
          "Databricks-Runtime/15.3.x-cpu-ml-scala2.12",
          true,
          "WriteSerializable",
          [
           "3309121777485539"
          ],
          "STREAMING UPDATE",
          [
           null,
           null,
           null,
           null
          ],
          [
           null,
           null,
           "-1",
           null,
           "Append",
           null,
           null,
           "58c82e50-133e-4f0e-93ed-ca0e65758278",
           false
          ],
          5,
          [
           "false"
          ],
          1724867567555,
          "4dd5fb59-db91-42f5-91ce-1e3e23380340",
          "7971536220129282",
          "matthew.resner@group1001.com"
         ],
         [
          [
           "true"
          ],
          1724867463455,
          [
           "parquet"
          ],
          "0bde0511-7d01-4e42-a5fb-35d8b714d209",
          [],
          "{\"type\":\"struct\",\"fields\":[{\"name\":\"Row_ID\",\"type\":\"integer\",\"nullable\":true,\"metadata\":{}},{\"name\":\"Store_ID\",\"type\":\"integer\",\"nullable\":true,\"metadata\":{}},{\"name\":\"Year\",\"type\":\"integer\",\"nullable\":true,\"metadata\":{}},{\"name\":\"Quarter\",\"type\":\"string\",\"nullable\":true,\"metadata\":{}},{\"name\":\"Total_Revenue\",\"type\":\"string\",\"nullable\":true,\"metadata\":{}},{\"name\":\"_rescued_data\",\"type\":\"string\",\"nullable\":true,\"metadata\":{}},{\"name\":\"COGS\",\"type\":\"integer\",\"nullable\":true,\"metadata\":{}},{\"name\":\"Profit\",\"type\":\"double\",\"nullable\":true,\"metadata\":{}}]}"
         ],
         "Added: ['Profit'], Removed: []"
        ],
        [
         "bronze_tj_fact_revenue",
         "00000000000000000003.json",
         "2024-08-28 17:52:18",
         "{\"type\":\"struct\",\"fields\":[{\"name\":\"Row_ID\",\"type\":\"integer\",\"nullable\":true,\"metadata\":{}},{\"name\":\"Store_ID\",\"type\":\"integer\",\"nullable\":true,\"metadata\":{}},{\"name\":\"Year\",\"type\":\"integer\",\"nullable\":true,\"metadata\":{}},{\"name\":\"Quarter\",\"type\":\"string\",\"nullable\":true,\"metadata\":{}},{\"name\":\"Total_Revenue\",\"type\":\"string\",\"nullable\":true,\"metadata\":{}},{\"name\":\"_rescued_data\",\"type\":\"string\",\"nullable\":true,\"metadata\":{}},{\"name\":\"COGS\",\"type\":\"integer\",\"nullable\":true,\"metadata\":{}}]}",
         "{\"type\":\"struct\",\"fields\":[{\"name\":\"Row_ID\",\"type\":\"integer\",\"nullable\":true,\"metadata\":{}},{\"name\":\"Store_ID\",\"type\":\"integer\",\"nullable\":true,\"metadata\":{}},{\"name\":\"Year\",\"type\":\"integer\",\"nullable\":true,\"metadata\":{}},{\"name\":\"Quarter\",\"type\":\"string\",\"nullable\":true,\"metadata\":{}},{\"name\":\"Total_Revenue\",\"type\":\"string\",\"nullable\":true,\"metadata\":{}},{\"name\":\"_rescued_data\",\"type\":\"string\",\"nullable\":true,\"metadata\":{}}]}",
         [
          "0801-194747-f0qk6m1o",
          "Databricks-Runtime/15.3.x-cpu-ml-scala2.12",
          true,
          "WriteSerializable",
          [
           "3309121777485539"
          ],
          "STREAMING UPDATE",
          [
           null,
           null,
           null,
           null
          ],
          [
           null,
           null,
           "-1",
           null,
           "Append",
           null,
           null,
           "58c82e50-133e-4f0e-93ed-ca0e65758278",
           false
          ],
          2,
          [
           "false"
          ],
          1724867538429,
          "fccaa851-0892-4742-b042-c680336e99a2",
          "7971536220129282",
          "matthew.resner@group1001.com"
         ],
         [
          [
           "true"
          ],
          1724867463455,
          [
           "parquet"
          ],
          "0bde0511-7d01-4e42-a5fb-35d8b714d209",
          [],
          "{\"type\":\"struct\",\"fields\":[{\"name\":\"Row_ID\",\"type\":\"integer\",\"nullable\":true,\"metadata\":{}},{\"name\":\"Store_ID\",\"type\":\"integer\",\"nullable\":true,\"metadata\":{}},{\"name\":\"Year\",\"type\":\"integer\",\"nullable\":true,\"metadata\":{}},{\"name\":\"Quarter\",\"type\":\"string\",\"nullable\":true,\"metadata\":{}},{\"name\":\"Total_Revenue\",\"type\":\"string\",\"nullable\":true,\"metadata\":{}},{\"name\":\"_rescued_data\",\"type\":\"string\",\"nullable\":true,\"metadata\":{}},{\"name\":\"COGS\",\"type\":\"integer\",\"nullable\":true,\"metadata\":{}}]}"
         ],
         "Added: ['COGS'], Removed: []"
        ],
        [
         "bronze_tj_fact_revenue",
         "00000000000000000001.json",
         "2024-08-28 17:51:39",
         "{\"type\":\"struct\",\"fields\":[{\"name\":\"Row_ID\",\"type\":\"integer\",\"nullable\":true,\"metadata\":{}},{\"name\":\"Store_ID\",\"type\":\"integer\",\"nullable\":true,\"metadata\":{}},{\"name\":\"Year\",\"type\":\"integer\",\"nullable\":true,\"metadata\":{}},{\"name\":\"Quarter\",\"type\":\"string\",\"nullable\":true,\"metadata\":{}},{\"name\":\"Total_Revenue\",\"type\":\"string\",\"nullable\":true,\"metadata\":{}},{\"name\":\"_rescued_data\",\"type\":\"string\",\"nullable\":true,\"metadata\":{}}]}",
         "{\"type\":\"struct\",\"fields\":[]}",
         [
          "0801-194747-f0qk6m1o",
          "Databricks-Runtime/15.3.x-cpu-ml-scala2.12",
          true,
          "WriteSerializable",
          [
           "3309121777485539"
          ],
          "STREAMING UPDATE",
          [
           null,
           null,
           null,
           null
          ],
          [
           null,
           null,
           "-1",
           null,
           "Append",
           null,
           null,
           "58c82e50-133e-4f0e-93ed-ca0e65758278",
           false
          ],
          0,
          [
           "false"
          ],
          1724867499107,
          "a5a5c724-5609-4ba2-bef3-9de94d73748a",
          "7971536220129282",
          "matthew.resner@group1001.com"
         ],
         [
          [
           "true"
          ],
          1724867463455,
          [
           "parquet"
          ],
          "0bde0511-7d01-4e42-a5fb-35d8b714d209",
          [],
          "{\"type\":\"struct\",\"fields\":[{\"name\":\"Row_ID\",\"type\":\"integer\",\"nullable\":true,\"metadata\":{}},{\"name\":\"Store_ID\",\"type\":\"integer\",\"nullable\":true,\"metadata\":{}},{\"name\":\"Year\",\"type\":\"integer\",\"nullable\":true,\"metadata\":{}},{\"name\":\"Quarter\",\"type\":\"string\",\"nullable\":true,\"metadata\":{}},{\"name\":\"Total_Revenue\",\"type\":\"string\",\"nullable\":true,\"metadata\":{}},{\"name\":\"_rescued_data\",\"type\":\"string\",\"nullable\":true,\"metadata\":{}}]}"
         ],
         "Added: ['Row_ID', 'Year', 'Quarter', 'Total_Revenue', 'Store_ID', '_rescued_data'], Removed: []"
        ],
        [
         "bronze_tj_fact_revenue",
         "00000000000000000000.json",
         "2024-08-28 17:51:03",
         "{\"type\":\"struct\",\"fields\":[]}",
         null,
         [
          "0801-194747-f0qk6m1o",
          "Databricks-Runtime/15.3.x-cpu-ml-scala2.12",
          true,
          "WriteSerializable",
          [
           "285342671664234"
          ],
          "CREATE TABLE",
          [
           null,
           null,
           null,
           null
          ],
          [
           "[]",
           null,
           null,
           "true",
           null,
           "[]",
           "{\"delta.enableDeletionVectors\":\"true\"}",
           null,
           false
          ],
          null,
          [
           "false"
          ],
          1724867463892,
          "74052df9-40b0-48ee-b209-10e161b89246",
          "7971536220129282",
          "matthew.resner@group1001.com"
         ],
         [
          [
           "true"
          ],
          1724867463455,
          [
           "parquet"
          ],
          "0bde0511-7d01-4e42-a5fb-35d8b714d209",
          [],
          "{\"type\":\"struct\",\"fields\":[]}"
         ],
         "No previous schema"
        ]
       ],
       "datasetInfos": [],
       "dbfsResultPath": null,
       "isJsonSchema": true,
       "metadata": {},
       "overflow": false,
       "plotOptions": {
        "customPlotOptions": {},
        "displayType": "table",
        "pivotAggregation": null,
        "pivotColumns": null,
        "xColumns": null,
        "yColumns": null
       },
       "removedWidgets": [],
       "schema": [
        {
         "metadata": "{}",
         "name": "table_name",
         "type": "\"string\""
        },
        {
         "metadata": "{}",
         "name": "schema_version",
         "type": "\"string\""
        },
        {
         "metadata": "{}",
         "name": "timestamp",
         "type": "\"string\""
        },
        {
         "metadata": "{}",
         "name": "current_schemaString",
         "type": "\"string\""
        },
        {
         "metadata": "{}",
         "name": "prev_schemaString",
         "type": "\"string\""
        },
        {
         "metadata": "{}",
         "name": "commitInfo",
         "type": "{\"type\":\"struct\",\"fields\":[{\"name\":\"clusterId\",\"type\":\"string\",\"nullable\":true,\"metadata\":{}},{\"name\":\"engineInfo\",\"type\":\"string\",\"nullable\":true,\"metadata\":{}},{\"name\":\"isBlindAppend\",\"type\":\"boolean\",\"nullable\":true,\"metadata\":{}},{\"name\":\"isolationLevel\",\"type\":\"string\",\"nullable\":true,\"metadata\":{}},{\"name\":\"notebook\",\"type\":{\"type\":\"struct\",\"fields\":[{\"name\":\"notebookId\",\"type\":\"string\",\"nullable\":true,\"metadata\":{}}]},\"nullable\":true,\"metadata\":{}},{\"name\":\"operation\",\"type\":\"string\",\"nullable\":true,\"metadata\":{}},{\"name\":\"operationMetrics\",\"type\":{\"type\":\"struct\",\"fields\":[{\"name\":\"numAddedFiles\",\"type\":\"string\",\"nullable\":true,\"metadata\":{}},{\"name\":\"numOutputBytes\",\"type\":\"string\",\"nullable\":true,\"metadata\":{}},{\"name\":\"numOutputRows\",\"type\":\"string\",\"nullable\":true,\"metadata\":{}},{\"name\":\"numRemovedFiles\",\"type\":\"string\",\"nullable\":true,\"metadata\":{}}]},\"nullable\":true,\"metadata\":{}},{\"name\":\"operationParameters\",\"type\":{\"type\":\"struct\",\"fields\":[{\"name\":\"clusterBy\",\"type\":\"string\",\"nullable\":true,\"metadata\":{}},{\"name\":\"description\",\"type\":\"string\",\"nullable\":true,\"metadata\":{}},{\"name\":\"epochId\",\"type\":\"string\",\"nullable\":true,\"metadata\":{}},{\"name\":\"isManaged\",\"type\":\"string\",\"nullable\":true,\"metadata\":{}},{\"name\":\"outputMode\",\"type\":\"string\",\"nullable\":true,\"metadata\":{}},{\"name\":\"partitionBy\",\"type\":\"string\",\"nullable\":true,\"metadata\":{}},{\"name\":\"properties\",\"type\":\"string\",\"nullable\":true,\"metadata\":{}},{\"name\":\"queryId\",\"type\":\"string\",\"nullable\":true,\"metadata\":{}},{\"name\":\"statsOnLoad\",\"type\":\"boolean\",\"nullable\":true,\"metadata\":{}}]},\"nullable\":true,\"metadata\":{}},{\"name\":\"readVersion\",\"type\":\"long\",\"nullable\":true,\"metadata\":{}},{\"name\":\"tags\",\"type\":{\"type\":\"struct\",\"fields\":[{\"name\":\"restoresDeletedRows\",\"type\":\"string\",\"nullable\":true,\"metadata\":{}}]},\"nullable\":true,\"metadata\":{}},{\"name\":\"timestamp\",\"type\":\"long\",\"nullable\":true,\"metadata\":{}},{\"name\":\"txnId\",\"type\":\"string\",\"nullable\":true,\"metadata\":{}},{\"name\":\"userId\",\"type\":\"string\",\"nullable\":true,\"metadata\":{}},{\"name\":\"userName\",\"type\":\"string\",\"nullable\":true,\"metadata\":{}}]}"
        },
        {
         "metadata": "{}",
         "name": "metaData",
         "type": "{\"type\":\"struct\",\"fields\":[{\"name\":\"configuration\",\"type\":{\"type\":\"struct\",\"fields\":[{\"name\":\"delta.enableDeletionVectors\",\"type\":\"string\",\"nullable\":true,\"metadata\":{}}]},\"nullable\":true,\"metadata\":{}},{\"name\":\"createdTime\",\"type\":\"long\",\"nullable\":true,\"metadata\":{}},{\"name\":\"format\",\"type\":{\"type\":\"struct\",\"fields\":[{\"name\":\"provider\",\"type\":\"string\",\"nullable\":true,\"metadata\":{}}]},\"nullable\":true,\"metadata\":{}},{\"name\":\"id\",\"type\":\"string\",\"nullable\":true,\"metadata\":{}},{\"name\":\"partitionColumns\",\"type\":{\"type\":\"array\",\"elementType\":\"string\",\"containsNull\":true},\"nullable\":true,\"metadata\":{}},{\"name\":\"schemaString\",\"type\":\"string\",\"nullable\":true,\"metadata\":{}}]}"
        },
        {
         "metadata": "{}",
         "name": "schema_changes",
         "type": "\"string\""
        }
       ],
       "type": "table"
      }
     },
     "output_type": "display_data"
    },
    {
     "output_type": "display_data",
     "data": {
      "text/html": [
       "<style scoped>\n",
       "  .table-result-container {\n",
       "    max-height: 300px;\n",
       "    overflow: auto;\n",
       "  }\n",
       "  table, th, td {\n",
       "    border: 1px solid black;\n",
       "    border-collapse: collapse;\n",
       "  }\n",
       "  th, td {\n",
       "    padding: 5px;\n",
       "  }\n",
       "  th {\n",
       "    text-align: left;\n",
       "  }\n",
       "</style><div class='table-result-container'><table class='table-result'><thead style='background-color: white'><tr><th>table_name</th><th>schema_version</th><th>timestamp</th><th>schema_changes</th><th>current_schemaString</th><th>prev_schemaString</th><th>metaData</th><th>commitInfo</th></tr></thead><tbody><tr><td>bronze_tj_fact_revenue</td><td>00000000000000000006.json</td><td>2024-08-28 17:52:47</td><td>Added: ['Profit'], Removed: []</td><td>{\"type\":\"struct\",\"fields\":[{\"name\":\"Row_ID\",\"type\":\"integer\",\"nullable\":true,\"metadata\":{}},{\"name\":\"Store_ID\",\"type\":\"integer\",\"nullable\":true,\"metadata\":{}},{\"name\":\"Year\",\"type\":\"integer\",\"nullable\":true,\"metadata\":{}},{\"name\":\"Quarter\",\"type\":\"string\",\"nullable\":true,\"metadata\":{}},{\"name\":\"Total_Revenue\",\"type\":\"string\",\"nullable\":true,\"metadata\":{}},{\"name\":\"_rescued_data\",\"type\":\"string\",\"nullable\":true,\"metadata\":{}},{\"name\":\"COGS\",\"type\":\"integer\",\"nullable\":true,\"metadata\":{}},{\"name\":\"Profit\",\"type\":\"double\",\"nullable\":true,\"metadata\":{}}]}</td><td>{\"type\":\"struct\",\"fields\":[{\"name\":\"Row_ID\",\"type\":\"integer\",\"nullable\":true,\"metadata\":{}},{\"name\":\"Store_ID\",\"type\":\"integer\",\"nullable\":true,\"metadata\":{}},{\"name\":\"Year\",\"type\":\"integer\",\"nullable\":true,\"metadata\":{}},{\"name\":\"Quarter\",\"type\":\"string\",\"nullable\":true,\"metadata\":{}},{\"name\":\"Total_Revenue\",\"type\":\"string\",\"nullable\":true,\"metadata\":{}},{\"name\":\"_rescued_data\",\"type\":\"string\",\"nullable\":true,\"metadata\":{}},{\"name\":\"COGS\",\"type\":\"integer\",\"nullable\":true,\"metadata\":{}}]}</td><td>List(List(true), 1724867463455, List(parquet), 0bde0511-7d01-4e42-a5fb-35d8b714d209, List(), {\"type\":\"struct\",\"fields\":[{\"name\":\"Row_ID\",\"type\":\"integer\",\"nullable\":true,\"metadata\":{}},{\"name\":\"Store_ID\",\"type\":\"integer\",\"nullable\":true,\"metadata\":{}},{\"name\":\"Year\",\"type\":\"integer\",\"nullable\":true,\"metadata\":{}},{\"name\":\"Quarter\",\"type\":\"string\",\"nullable\":true,\"metadata\":{}},{\"name\":\"Total_Revenue\",\"type\":\"string\",\"nullable\":true,\"metadata\":{}},{\"name\":\"_rescued_data\",\"type\":\"string\",\"nullable\":true,\"metadata\":{}},{\"name\":\"COGS\",\"type\":\"integer\",\"nullable\":true,\"metadata\":{}},{\"name\":\"Profit\",\"type\":\"double\",\"nullable\":true,\"metadata\":{}}]})</td><td>List(0801-194747-f0qk6m1o, Databricks-Runtime/15.3.x-cpu-ml-scala2.12, true, WriteSerializable, List(3309121777485539), STREAMING UPDATE, List(null, null, null, null), List(null, null, -1, null, Append, null, null, 58c82e50-133e-4f0e-93ed-ca0e65758278, false), 5, List(false), 1724867567555, 4dd5fb59-db91-42f5-91ce-1e3e23380340, 7971536220129282, matthew.resner@group1001.com)</td></tr><tr><td>bronze_tj_fact_revenue</td><td>00000000000000000003.json</td><td>2024-08-28 17:52:18</td><td>Added: ['COGS'], Removed: []</td><td>{\"type\":\"struct\",\"fields\":[{\"name\":\"Row_ID\",\"type\":\"integer\",\"nullable\":true,\"metadata\":{}},{\"name\":\"Store_ID\",\"type\":\"integer\",\"nullable\":true,\"metadata\":{}},{\"name\":\"Year\",\"type\":\"integer\",\"nullable\":true,\"metadata\":{}},{\"name\":\"Quarter\",\"type\":\"string\",\"nullable\":true,\"metadata\":{}},{\"name\":\"Total_Revenue\",\"type\":\"string\",\"nullable\":true,\"metadata\":{}},{\"name\":\"_rescued_data\",\"type\":\"string\",\"nullable\":true,\"metadata\":{}},{\"name\":\"COGS\",\"type\":\"integer\",\"nullable\":true,\"metadata\":{}}]}</td><td>{\"type\":\"struct\",\"fields\":[{\"name\":\"Row_ID\",\"type\":\"integer\",\"nullable\":true,\"metadata\":{}},{\"name\":\"Store_ID\",\"type\":\"integer\",\"nullable\":true,\"metadata\":{}},{\"name\":\"Year\",\"type\":\"integer\",\"nullable\":true,\"metadata\":{}},{\"name\":\"Quarter\",\"type\":\"string\",\"nullable\":true,\"metadata\":{}},{\"name\":\"Total_Revenue\",\"type\":\"string\",\"nullable\":true,\"metadata\":{}},{\"name\":\"_rescued_data\",\"type\":\"string\",\"nullable\":true,\"metadata\":{}}]}</td><td>List(List(true), 1724867463455, List(parquet), 0bde0511-7d01-4e42-a5fb-35d8b714d209, List(), {\"type\":\"struct\",\"fields\":[{\"name\":\"Row_ID\",\"type\":\"integer\",\"nullable\":true,\"metadata\":{}},{\"name\":\"Store_ID\",\"type\":\"integer\",\"nullable\":true,\"metadata\":{}},{\"name\":\"Year\",\"type\":\"integer\",\"nullable\":true,\"metadata\":{}},{\"name\":\"Quarter\",\"type\":\"string\",\"nullable\":true,\"metadata\":{}},{\"name\":\"Total_Revenue\",\"type\":\"string\",\"nullable\":true,\"metadata\":{}},{\"name\":\"_rescued_data\",\"type\":\"string\",\"nullable\":true,\"metadata\":{}},{\"name\":\"COGS\",\"type\":\"integer\",\"nullable\":true,\"metadata\":{}}]})</td><td>List(0801-194747-f0qk6m1o, Databricks-Runtime/15.3.x-cpu-ml-scala2.12, true, WriteSerializable, List(3309121777485539), STREAMING UPDATE, List(null, null, null, null), List(null, null, -1, null, Append, null, null, 58c82e50-133e-4f0e-93ed-ca0e65758278, false), 2, List(false), 1724867538429, fccaa851-0892-4742-b042-c680336e99a2, 7971536220129282, matthew.resner@group1001.com)</td></tr><tr><td>bronze_tj_fact_revenue</td><td>00000000000000000001.json</td><td>2024-08-28 17:51:39</td><td>Added: ['Row_ID', 'Year', 'Quarter', 'Total_Revenue', 'Store_ID', '_rescued_data'], Removed: []</td><td>{\"type\":\"struct\",\"fields\":[{\"name\":\"Row_ID\",\"type\":\"integer\",\"nullable\":true,\"metadata\":{}},{\"name\":\"Store_ID\",\"type\":\"integer\",\"nullable\":true,\"metadata\":{}},{\"name\":\"Year\",\"type\":\"integer\",\"nullable\":true,\"metadata\":{}},{\"name\":\"Quarter\",\"type\":\"string\",\"nullable\":true,\"metadata\":{}},{\"name\":\"Total_Revenue\",\"type\":\"string\",\"nullable\":true,\"metadata\":{}},{\"name\":\"_rescued_data\",\"type\":\"string\",\"nullable\":true,\"metadata\":{}}]}</td><td>{\"type\":\"struct\",\"fields\":[]}</td><td>List(List(true), 1724867463455, List(parquet), 0bde0511-7d01-4e42-a5fb-35d8b714d209, List(), {\"type\":\"struct\",\"fields\":[{\"name\":\"Row_ID\",\"type\":\"integer\",\"nullable\":true,\"metadata\":{}},{\"name\":\"Store_ID\",\"type\":\"integer\",\"nullable\":true,\"metadata\":{}},{\"name\":\"Year\",\"type\":\"integer\",\"nullable\":true,\"metadata\":{}},{\"name\":\"Quarter\",\"type\":\"string\",\"nullable\":true,\"metadata\":{}},{\"name\":\"Total_Revenue\",\"type\":\"string\",\"nullable\":true,\"metadata\":{}},{\"name\":\"_rescued_data\",\"type\":\"string\",\"nullable\":true,\"metadata\":{}}]})</td><td>List(0801-194747-f0qk6m1o, Databricks-Runtime/15.3.x-cpu-ml-scala2.12, true, WriteSerializable, List(3309121777485539), STREAMING UPDATE, List(null, null, null, null), List(null, null, -1, null, Append, null, null, 58c82e50-133e-4f0e-93ed-ca0e65758278, false), 0, List(false), 1724867499107, a5a5c724-5609-4ba2-bef3-9de94d73748a, 7971536220129282, matthew.resner@group1001.com)</td></tr><tr><td>bronze_tj_fact_revenue</td><td>00000000000000000000.json</td><td>2024-08-28 17:51:03</td><td>No previous schema</td><td>{\"type\":\"struct\",\"fields\":[]}</td><td>null</td><td>List(List(true), 1724867463455, List(parquet), 0bde0511-7d01-4e42-a5fb-35d8b714d209, List(), {\"type\":\"struct\",\"fields\":[]})</td><td>List(0801-194747-f0qk6m1o, Databricks-Runtime/15.3.x-cpu-ml-scala2.12, true, WriteSerializable, List(285342671664234), CREATE TABLE, List(null, null, null, null), List([], null, null, true, null, [], {\"delta.enableDeletionVectors\":\"true\"}, null, false), null, List(false), 1724867463892, 74052df9-40b0-48ee-b209-10e161b89246, 7971536220129282, matthew.resner@group1001.com)</td></tr></tbody></table></div>"
      ]
     },
     "metadata": {
      "application/vnd.databricks.v1+output": {
       "addedWidgets": {},
       "aggData": [],
       "aggError": "",
       "aggOverflow": false,
       "aggSchema": [],
       "aggSeriesLimitReached": false,
       "aggType": "",
       "arguments": {},
       "columnCustomDisplayInfos": {},
       "data": [
        [
         "bronze_tj_fact_revenue",
         "00000000000000000006.json",
         "2024-08-28 17:52:47",
         "Added: ['Profit'], Removed: []",
         "{\"type\":\"struct\",\"fields\":[{\"name\":\"Row_ID\",\"type\":\"integer\",\"nullable\":true,\"metadata\":{}},{\"name\":\"Store_ID\",\"type\":\"integer\",\"nullable\":true,\"metadata\":{}},{\"name\":\"Year\",\"type\":\"integer\",\"nullable\":true,\"metadata\":{}},{\"name\":\"Quarter\",\"type\":\"string\",\"nullable\":true,\"metadata\":{}},{\"name\":\"Total_Revenue\",\"type\":\"string\",\"nullable\":true,\"metadata\":{}},{\"name\":\"_rescued_data\",\"type\":\"string\",\"nullable\":true,\"metadata\":{}},{\"name\":\"COGS\",\"type\":\"integer\",\"nullable\":true,\"metadata\":{}},{\"name\":\"Profit\",\"type\":\"double\",\"nullable\":true,\"metadata\":{}}]}",
         "{\"type\":\"struct\",\"fields\":[{\"name\":\"Row_ID\",\"type\":\"integer\",\"nullable\":true,\"metadata\":{}},{\"name\":\"Store_ID\",\"type\":\"integer\",\"nullable\":true,\"metadata\":{}},{\"name\":\"Year\",\"type\":\"integer\",\"nullable\":true,\"metadata\":{}},{\"name\":\"Quarter\",\"type\":\"string\",\"nullable\":true,\"metadata\":{}},{\"name\":\"Total_Revenue\",\"type\":\"string\",\"nullable\":true,\"metadata\":{}},{\"name\":\"_rescued_data\",\"type\":\"string\",\"nullable\":true,\"metadata\":{}},{\"name\":\"COGS\",\"type\":\"integer\",\"nullable\":true,\"metadata\":{}}]}",
         [
          [
           "true"
          ],
          1724867463455,
          [
           "parquet"
          ],
          "0bde0511-7d01-4e42-a5fb-35d8b714d209",
          [],
          "{\"type\":\"struct\",\"fields\":[{\"name\":\"Row_ID\",\"type\":\"integer\",\"nullable\":true,\"metadata\":{}},{\"name\":\"Store_ID\",\"type\":\"integer\",\"nullable\":true,\"metadata\":{}},{\"name\":\"Year\",\"type\":\"integer\",\"nullable\":true,\"metadata\":{}},{\"name\":\"Quarter\",\"type\":\"string\",\"nullable\":true,\"metadata\":{}},{\"name\":\"Total_Revenue\",\"type\":\"string\",\"nullable\":true,\"metadata\":{}},{\"name\":\"_rescued_data\",\"type\":\"string\",\"nullable\":true,\"metadata\":{}},{\"name\":\"COGS\",\"type\":\"integer\",\"nullable\":true,\"metadata\":{}},{\"name\":\"Profit\",\"type\":\"double\",\"nullable\":true,\"metadata\":{}}]}"
         ],
         [
          "0801-194747-f0qk6m1o",
          "Databricks-Runtime/15.3.x-cpu-ml-scala2.12",
          true,
          "WriteSerializable",
          [
           "3309121777485539"
          ],
          "STREAMING UPDATE",
          [
           null,
           null,
           null,
           null
          ],
          [
           null,
           null,
           "-1",
           null,
           "Append",
           null,
           null,
           "58c82e50-133e-4f0e-93ed-ca0e65758278",
           false
          ],
          5,
          [
           "false"
          ],
          1724867567555,
          "4dd5fb59-db91-42f5-91ce-1e3e23380340",
          "7971536220129282",
          "matthew.resner@group1001.com"
         ]
        ],
        [
         "bronze_tj_fact_revenue",
         "00000000000000000003.json",
         "2024-08-28 17:52:18",
         "Added: ['COGS'], Removed: []",
         "{\"type\":\"struct\",\"fields\":[{\"name\":\"Row_ID\",\"type\":\"integer\",\"nullable\":true,\"metadata\":{}},{\"name\":\"Store_ID\",\"type\":\"integer\",\"nullable\":true,\"metadata\":{}},{\"name\":\"Year\",\"type\":\"integer\",\"nullable\":true,\"metadata\":{}},{\"name\":\"Quarter\",\"type\":\"string\",\"nullable\":true,\"metadata\":{}},{\"name\":\"Total_Revenue\",\"type\":\"string\",\"nullable\":true,\"metadata\":{}},{\"name\":\"_rescued_data\",\"type\":\"string\",\"nullable\":true,\"metadata\":{}},{\"name\":\"COGS\",\"type\":\"integer\",\"nullable\":true,\"metadata\":{}}]}",
         "{\"type\":\"struct\",\"fields\":[{\"name\":\"Row_ID\",\"type\":\"integer\",\"nullable\":true,\"metadata\":{}},{\"name\":\"Store_ID\",\"type\":\"integer\",\"nullable\":true,\"metadata\":{}},{\"name\":\"Year\",\"type\":\"integer\",\"nullable\":true,\"metadata\":{}},{\"name\":\"Quarter\",\"type\":\"string\",\"nullable\":true,\"metadata\":{}},{\"name\":\"Total_Revenue\",\"type\":\"string\",\"nullable\":true,\"metadata\":{}},{\"name\":\"_rescued_data\",\"type\":\"string\",\"nullable\":true,\"metadata\":{}}]}",
         [
          [
           "true"
          ],
          1724867463455,
          [
           "parquet"
          ],
          "0bde0511-7d01-4e42-a5fb-35d8b714d209",
          [],
          "{\"type\":\"struct\",\"fields\":[{\"name\":\"Row_ID\",\"type\":\"integer\",\"nullable\":true,\"metadata\":{}},{\"name\":\"Store_ID\",\"type\":\"integer\",\"nullable\":true,\"metadata\":{}},{\"name\":\"Year\",\"type\":\"integer\",\"nullable\":true,\"metadata\":{}},{\"name\":\"Quarter\",\"type\":\"string\",\"nullable\":true,\"metadata\":{}},{\"name\":\"Total_Revenue\",\"type\":\"string\",\"nullable\":true,\"metadata\":{}},{\"name\":\"_rescued_data\",\"type\":\"string\",\"nullable\":true,\"metadata\":{}},{\"name\":\"COGS\",\"type\":\"integer\",\"nullable\":true,\"metadata\":{}}]}"
         ],
         [
          "0801-194747-f0qk6m1o",
          "Databricks-Runtime/15.3.x-cpu-ml-scala2.12",
          true,
          "WriteSerializable",
          [
           "3309121777485539"
          ],
          "STREAMING UPDATE",
          [
           null,
           null,
           null,
           null
          ],
          [
           null,
           null,
           "-1",
           null,
           "Append",
           null,
           null,
           "58c82e50-133e-4f0e-93ed-ca0e65758278",
           false
          ],
          2,
          [
           "false"
          ],
          1724867538429,
          "fccaa851-0892-4742-b042-c680336e99a2",
          "7971536220129282",
          "matthew.resner@group1001.com"
         ]
        ],
        [
         "bronze_tj_fact_revenue",
         "00000000000000000001.json",
         "2024-08-28 17:51:39",
         "Added: ['Row_ID', 'Year', 'Quarter', 'Total_Revenue', 'Store_ID', '_rescued_data'], Removed: []",
         "{\"type\":\"struct\",\"fields\":[{\"name\":\"Row_ID\",\"type\":\"integer\",\"nullable\":true,\"metadata\":{}},{\"name\":\"Store_ID\",\"type\":\"integer\",\"nullable\":true,\"metadata\":{}},{\"name\":\"Year\",\"type\":\"integer\",\"nullable\":true,\"metadata\":{}},{\"name\":\"Quarter\",\"type\":\"string\",\"nullable\":true,\"metadata\":{}},{\"name\":\"Total_Revenue\",\"type\":\"string\",\"nullable\":true,\"metadata\":{}},{\"name\":\"_rescued_data\",\"type\":\"string\",\"nullable\":true,\"metadata\":{}}]}",
         "{\"type\":\"struct\",\"fields\":[]}",
         [
          [
           "true"
          ],
          1724867463455,
          [
           "parquet"
          ],
          "0bde0511-7d01-4e42-a5fb-35d8b714d209",
          [],
          "{\"type\":\"struct\",\"fields\":[{\"name\":\"Row_ID\",\"type\":\"integer\",\"nullable\":true,\"metadata\":{}},{\"name\":\"Store_ID\",\"type\":\"integer\",\"nullable\":true,\"metadata\":{}},{\"name\":\"Year\",\"type\":\"integer\",\"nullable\":true,\"metadata\":{}},{\"name\":\"Quarter\",\"type\":\"string\",\"nullable\":true,\"metadata\":{}},{\"name\":\"Total_Revenue\",\"type\":\"string\",\"nullable\":true,\"metadata\":{}},{\"name\":\"_rescued_data\",\"type\":\"string\",\"nullable\":true,\"metadata\":{}}]}"
         ],
         [
          "0801-194747-f0qk6m1o",
          "Databricks-Runtime/15.3.x-cpu-ml-scala2.12",
          true,
          "WriteSerializable",
          [
           "3309121777485539"
          ],
          "STREAMING UPDATE",
          [
           null,
           null,
           null,
           null
          ],
          [
           null,
           null,
           "-1",
           null,
           "Append",
           null,
           null,
           "58c82e50-133e-4f0e-93ed-ca0e65758278",
           false
          ],
          0,
          [
           "false"
          ],
          1724867499107,
          "a5a5c724-5609-4ba2-bef3-9de94d73748a",
          "7971536220129282",
          "matthew.resner@group1001.com"
         ]
        ],
        [
         "bronze_tj_fact_revenue",
         "00000000000000000000.json",
         "2024-08-28 17:51:03",
         "No previous schema",
         "{\"type\":\"struct\",\"fields\":[]}",
         null,
         [
          [
           "true"
          ],
          1724867463455,
          [
           "parquet"
          ],
          "0bde0511-7d01-4e42-a5fb-35d8b714d209",
          [],
          "{\"type\":\"struct\",\"fields\":[]}"
         ],
         [
          "0801-194747-f0qk6m1o",
          "Databricks-Runtime/15.3.x-cpu-ml-scala2.12",
          true,
          "WriteSerializable",
          [
           "285342671664234"
          ],
          "CREATE TABLE",
          [
           null,
           null,
           null,
           null
          ],
          [
           "[]",
           null,
           null,
           "true",
           null,
           "[]",
           "{\"delta.enableDeletionVectors\":\"true\"}",
           null,
           false
          ],
          null,
          [
           "false"
          ],
          1724867463892,
          "74052df9-40b0-48ee-b209-10e161b89246",
          "7971536220129282",
          "matthew.resner@group1001.com"
         ]
        ]
       ],
       "datasetInfos": [],
       "dbfsResultPath": null,
       "isJsonSchema": true,
       "metadata": {},
       "overflow": false,
       "plotOptions": {
        "customPlotOptions": {},
        "displayType": "table",
        "pivotAggregation": null,
        "pivotColumns": null,
        "xColumns": null,
        "yColumns": null
       },
       "removedWidgets": [],
       "schema": [
        {
         "metadata": "{}",
         "name": "table_name",
         "type": "\"string\""
        },
        {
         "metadata": "{}",
         "name": "schema_version",
         "type": "\"string\""
        },
        {
         "metadata": "{}",
         "name": "timestamp",
         "type": "\"string\""
        },
        {
         "metadata": "{}",
         "name": "schema_changes",
         "type": "\"string\""
        },
        {
         "metadata": "{}",
         "name": "current_schemaString",
         "type": "\"string\""
        },
        {
         "metadata": "{}",
         "name": "prev_schemaString",
         "type": "\"string\""
        },
        {
         "metadata": "{}",
         "name": "metaData",
         "type": "{\"type\":\"struct\",\"fields\":[{\"name\":\"configuration\",\"type\":{\"type\":\"struct\",\"fields\":[{\"name\":\"delta.enableDeletionVectors\",\"type\":\"string\",\"nullable\":true,\"metadata\":{}}]},\"nullable\":true,\"metadata\":{}},{\"name\":\"createdTime\",\"type\":\"long\",\"nullable\":true,\"metadata\":{}},{\"name\":\"format\",\"type\":{\"type\":\"struct\",\"fields\":[{\"name\":\"provider\",\"type\":\"string\",\"nullable\":true,\"metadata\":{}}]},\"nullable\":true,\"metadata\":{}},{\"name\":\"id\",\"type\":\"string\",\"nullable\":true,\"metadata\":{}},{\"name\":\"partitionColumns\",\"type\":{\"type\":\"array\",\"elementType\":\"string\",\"containsNull\":true},\"nullable\":true,\"metadata\":{}},{\"name\":\"schemaString\",\"type\":\"string\",\"nullable\":true,\"metadata\":{}}]}"
        },
        {
         "metadata": "{}",
         "name": "commitInfo",
         "type": "{\"type\":\"struct\",\"fields\":[{\"name\":\"clusterId\",\"type\":\"string\",\"nullable\":true,\"metadata\":{}},{\"name\":\"engineInfo\",\"type\":\"string\",\"nullable\":true,\"metadata\":{}},{\"name\":\"isBlindAppend\",\"type\":\"boolean\",\"nullable\":true,\"metadata\":{}},{\"name\":\"isolationLevel\",\"type\":\"string\",\"nullable\":true,\"metadata\":{}},{\"name\":\"notebook\",\"type\":{\"type\":\"struct\",\"fields\":[{\"name\":\"notebookId\",\"type\":\"string\",\"nullable\":true,\"metadata\":{}}]},\"nullable\":true,\"metadata\":{}},{\"name\":\"operation\",\"type\":\"string\",\"nullable\":true,\"metadata\":{}},{\"name\":\"operationMetrics\",\"type\":{\"type\":\"struct\",\"fields\":[{\"name\":\"numAddedFiles\",\"type\":\"string\",\"nullable\":true,\"metadata\":{}},{\"name\":\"numOutputBytes\",\"type\":\"string\",\"nullable\":true,\"metadata\":{}},{\"name\":\"numOutputRows\",\"type\":\"string\",\"nullable\":true,\"metadata\":{}},{\"name\":\"numRemovedFiles\",\"type\":\"string\",\"nullable\":true,\"metadata\":{}}]},\"nullable\":true,\"metadata\":{}},{\"name\":\"operationParameters\",\"type\":{\"type\":\"struct\",\"fields\":[{\"name\":\"clusterBy\",\"type\":\"string\",\"nullable\":true,\"metadata\":{}},{\"name\":\"description\",\"type\":\"string\",\"nullable\":true,\"metadata\":{}},{\"name\":\"epochId\",\"type\":\"string\",\"nullable\":true,\"metadata\":{}},{\"name\":\"isManaged\",\"type\":\"string\",\"nullable\":true,\"metadata\":{}},{\"name\":\"outputMode\",\"type\":\"string\",\"nullable\":true,\"metadata\":{}},{\"name\":\"partitionBy\",\"type\":\"string\",\"nullable\":true,\"metadata\":{}},{\"name\":\"properties\",\"type\":\"string\",\"nullable\":true,\"metadata\":{}},{\"name\":\"queryId\",\"type\":\"string\",\"nullable\":true,\"metadata\":{}},{\"name\":\"statsOnLoad\",\"type\":\"boolean\",\"nullable\":true,\"metadata\":{}}]},\"nullable\":true,\"metadata\":{}},{\"name\":\"readVersion\",\"type\":\"long\",\"nullable\":true,\"metadata\":{}},{\"name\":\"tags\",\"type\":{\"type\":\"struct\",\"fields\":[{\"name\":\"restoresDeletedRows\",\"type\":\"string\",\"nullable\":true,\"metadata\":{}}]},\"nullable\":true,\"metadata\":{}},{\"name\":\"timestamp\",\"type\":\"long\",\"nullable\":true,\"metadata\":{}},{\"name\":\"txnId\",\"type\":\"string\",\"nullable\":true,\"metadata\":{}},{\"name\":\"userId\",\"type\":\"string\",\"nullable\":true,\"metadata\":{}},{\"name\":\"userName\",\"type\":\"string\",\"nullable\":true,\"metadata\":{}}]}"
        }
       ],
       "type": "table"
      }
     },
     "output_type": "display_data"
    }
   ],
   "source": [
    "from pyspark.sql.functions import col, from_json, udf\n",
    "from pyspark.sql.types import StringType\n",
    "\n",
    "display(df)\n",
    "\n",
    "# write a UDF\n",
    "def compare_schemas(current_schema, prev_schema):\n",
    "    if prev_schema is None:\n",
    "        return 'No previous schema'\n",
    "        # Directly work with StructType's fields in two set operations to compare the two schemas current_schema.fields and prev_schema.fields\n",
    "    current_fields = set(field.name for field in current_schema.fields) if current_schema else set() \n",
    "        \n",
    "    prev_fields = set(field.name for field in prev_schema.fields) if prev_schema else set() \n",
    "        \n",
    "    added = current_fields - prev_fields\n",
    "    removed = prev_fields - current_fields\n",
    "    return f\"Added: {list(added)}, Removed: {list(removed)}\"\n",
    "\n",
    "# Converting the output to stringtype (the code doesn't work without this which I don't completly understand TBH)\n",
    "compare_schemas_udf = udf(compare_schemas, StringType())\n",
    "\n",
    "# Apply UDF to the Date Frame earlier\n",
    "df = df.withColumn(\"schema_changes\", compare_schemas_udf(from_json(col(\"current_schemaString\"), schema), from_json(col(\"prev_schemaString\"), schema)))\n",
    "\n",
    "# Write a temp view again\n",
    "df.createOrReplaceTempView(\"delta_log_enhanced\")\n",
    "\n",
    "# Display the result and reorder columns with SparkSQL\n",
    "display(spark.sql(\"\"\"\n",
    "    SELECT table_name, schema_version, timestamp, schema_changes, current_schemaString, prev_schemaString, metaData, commitInfo\n",
    "    FROM delta_log_enhanced\n",
    "    ORDER BY schema_version DESC\n",
    "\"\"\"))"
   ]
  },
  {
   "cell_type": "markdown",
   "metadata": {
    "application/vnd.databricks.v1+cell": {
     "cellMetadata": {},
     "inputWidgets": {},
     "nuid": "87fda2cb-c948-49ac-9dd2-44b48aed40b7",
     "showTitle": false,
     "title": ""
    }
   },
   "source": []
  },
  {
   "cell_type": "markdown",
   "metadata": {
    "application/vnd.databricks.v1+cell": {
     "cellMetadata": {},
     "inputWidgets": {},
     "nuid": "0fc9bc37-04d8-4fbd-8ba7-bdb9b5a3e79e",
     "showTitle": false,
     "title": ""
    }
   },
   "source": []
  }
 ],
 "metadata": {
  "application/vnd.databricks.v1+notebook": {
   "dashboards": [],
   "environmentMetadata": null,
   "language": "python",
   "notebookMetadata": {
    "mostRecentlyExecutedCommandWithImplicitDF": {
     "commandId": 4434172994327375,
     "dataframes": [
      "_sqldf"
     ]
    },
    "pythonIndentUnit": 4
   },
   "notebookName": "4. Delta Log History",
   "widgets": {}
  }
 },
 "nbformat": 4,
 "nbformat_minor": 0
}
